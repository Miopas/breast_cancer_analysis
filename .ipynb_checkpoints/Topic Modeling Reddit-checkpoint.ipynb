{
 "cells": [
  {
   "cell_type": "code",
   "execution_count": 65,
   "metadata": {},
   "outputs": [],
   "source": [
    "# data process\n",
    "import pandas as pd\n",
    "\n",
    "# plot functions\n",
    "import matplotlib\n",
    "import matplotlib.pyplot as plt\n",
    "import matplotlib.gridspec as gridspec\n",
    "\n",
    "# text process\n",
    "import re\n",
    "import nltk\n",
    "from nltk.corpus import stopwords\n",
    "from nltk.stem import *\n",
    "from nltk.tokenize import RegexpTokenizer\n",
    "from sklearn.feature_extraction.text import CountVectorizer\n",
    "\n",
    "# LDA model\n",
    "from gensim.models.ldamodel import LdaModel\n",
    "from gensim.models import CoherenceModel, LdaMulticore\n",
    "from gensim.corpora import Dictionary\n",
    "\n",
    "# visualization LDA model\n",
    "import pyLDAvis.gensim\n",
    "import pickle \n",
    "import pyLDAvis\n",
    "import math"
   ]
  },
  {
   "cell_type": "markdown",
   "metadata": {},
   "source": [
    "### Load Dataset"
   ]
  },
  {
   "cell_type": "code",
   "execution_count": 4,
   "metadata": {},
   "outputs": [],
   "source": [
    "df_tweets = pd.read_csv(\"/Users/yhu245/Documents/GitHub/breast_cancer_analysis/BreastCancer_Rawdata_TWs_2Classes.csv\")"
   ]
  },
  {
   "cell_type": "code",
   "execution_count": 5,
   "metadata": {},
   "outputs": [
    {
     "data": {
      "text/html": [
       "<div>\n",
       "<style scoped>\n",
       "    .dataframe tbody tr th:only-of-type {\n",
       "        vertical-align: middle;\n",
       "    }\n",
       "\n",
       "    .dataframe tbody tr th {\n",
       "        vertical-align: top;\n",
       "    }\n",
       "\n",
       "    .dataframe thead th {\n",
       "        text-align: right;\n",
       "    }\n",
       "</style>\n",
       "<table border=\"1\" class=\"dataframe\">\n",
       "  <thead>\n",
       "    <tr style=\"text-align: right;\">\n",
       "      <th></th>\n",
       "      <th>Unnamed: 0</th>\n",
       "      <th>Unnamed: 0.1</th>\n",
       "      <th>ID</th>\n",
       "      <th>Timestamp</th>\n",
       "      <th>Text</th>\n",
       "      <th>Class</th>\n",
       "    </tr>\n",
       "  </thead>\n",
       "  <tbody>\n",
       "    <tr>\n",
       "      <th>0</th>\n",
       "      <td>0</td>\n",
       "      <td>1143</td>\n",
       "      <td>835999046204551168</td>\n",
       "      <td>2017-02-26 23:44:39</td>\n",
       "      <td>my mom could have worked while dying from stag...</td>\n",
       "      <td>0</td>\n",
       "    </tr>\n",
       "    <tr>\n",
       "      <th>1</th>\n",
       "      <td>2</td>\n",
       "      <td>1981</td>\n",
       "      <td>839261636275933184</td>\n",
       "      <td>2017-03-07 23:49:01</td>\n",
       "      <td>new drug 4 breast cancer is $10k per month. Ca...</td>\n",
       "      <td>0</td>\n",
       "    </tr>\n",
       "    <tr>\n",
       "      <th>2</th>\n",
       "      <td>5</td>\n",
       "      <td>1153</td>\n",
       "      <td>853032936324464640</td>\n",
       "      <td>2017-04-14 23:51:15</td>\n",
       "      <td>When people who don't know me try to educate m...</td>\n",
       "      <td>1</td>\n",
       "    </tr>\n",
       "    <tr>\n",
       "      <th>3</th>\n",
       "      <td>7</td>\n",
       "      <td>1154</td>\n",
       "      <td>859919598904254464</td>\n",
       "      <td>2017-05-03 23:56:23</td>\n",
       "      <td>This 11 year breast cancer survivor needs heal...</td>\n",
       "      <td>0</td>\n",
       "    </tr>\n",
       "    <tr>\n",
       "      <th>4</th>\n",
       "      <td>9</td>\n",
       "      <td>1159</td>\n",
       "      <td>861368530817732608</td>\n",
       "      <td>2017-05-07 23:53:55</td>\n",
       "      <td>@KellyMazeski Fellow breast cancer survivor he...</td>\n",
       "      <td>0</td>\n",
       "    </tr>\n",
       "  </tbody>\n",
       "</table>\n",
       "</div>"
      ],
      "text/plain": [
       "   Unnamed: 0  Unnamed: 0.1                  ID            Timestamp  \\\n",
       "0           0          1143  835999046204551168  2017-02-26 23:44:39   \n",
       "1           2          1981  839261636275933184  2017-03-07 23:49:01   \n",
       "2           5          1153  853032936324464640  2017-04-14 23:51:15   \n",
       "3           7          1154  859919598904254464  2017-05-03 23:56:23   \n",
       "4           9          1159  861368530817732608  2017-05-07 23:53:55   \n",
       "\n",
       "                                                Text  Class  \n",
       "0  my mom could have worked while dying from stag...      0  \n",
       "1  new drug 4 breast cancer is $10k per month. Ca...      0  \n",
       "2  When people who don't know me try to educate m...      1  \n",
       "3  This 11 year breast cancer survivor needs heal...      0  \n",
       "4  @KellyMazeski Fellow breast cancer survivor he...      0  "
      ]
     },
     "execution_count": 5,
     "metadata": {},
     "output_type": "execute_result"
    }
   ],
   "source": [
    "df_tweets.head()"
   ]
  },
  {
   "cell_type": "code",
   "execution_count": 6,
   "metadata": {},
   "outputs": [],
   "source": [
    "df_tweets = df_tweets.loc[df_tweets['Class'] == 1]"
   ]
  },
  {
   "cell_type": "code",
   "execution_count": 7,
   "metadata": {},
   "outputs": [
    {
     "data": {
      "text/plain": [
       "(1283, 6)"
      ]
     },
     "execution_count": 7,
     "metadata": {},
     "output_type": "execute_result"
    }
   ],
   "source": [
    "df_tweets.shape"
   ]
  },
  {
   "cell_type": "code",
   "execution_count": 9,
   "metadata": {},
   "outputs": [],
   "source": [
    "df_tweets = df_tweets[['ID', 'Timestamp', 'Text']]"
   ]
  },
  {
   "cell_type": "markdown",
   "metadata": {},
   "source": [
    "### Preprocess the Text"
   ]
  },
  {
   "cell_type": "markdown",
   "metadata": {},
   "source": [
    "Here we only consider bags of word presentation of text and could also try Bigrams and Trigrams model."
   ]
  },
  {
   "cell_type": "code",
   "execution_count": 56,
   "metadata": {},
   "outputs": [
    {
     "data": {
      "text/html": [
       "<div>\n",
       "<style scoped>\n",
       "    .dataframe tbody tr th:only-of-type {\n",
       "        vertical-align: middle;\n",
       "    }\n",
       "\n",
       "    .dataframe tbody tr th {\n",
       "        vertical-align: top;\n",
       "    }\n",
       "\n",
       "    .dataframe thead th {\n",
       "        text-align: right;\n",
       "    }\n",
       "</style>\n",
       "<table border=\"1\" class=\"dataframe\">\n",
       "  <thead>\n",
       "    <tr style=\"text-align: right;\">\n",
       "      <th></th>\n",
       "      <th>ID</th>\n",
       "      <th>Timestamp</th>\n",
       "      <th>Text</th>\n",
       "      <th>preprocessed_Text</th>\n",
       "      <th>tokenized_Text</th>\n",
       "    </tr>\n",
       "  </thead>\n",
       "  <tbody>\n",
       "    <tr>\n",
       "      <th>2</th>\n",
       "      <td>853032936324464640</td>\n",
       "      <td>2017-04-14 23:51:15</td>\n",
       "      <td>When people who don't know me try to educate m...</td>\n",
       "      <td>people know try educate patient goes through...</td>\n",
       "      <td>[peopl, know, tri, educ, patient, goe]</td>\n",
       "    </tr>\n",
       "    <tr>\n",
       "      <th>10</th>\n",
       "      <td>988565743380844544</td>\n",
       "      <td>2018-04-23 23:50:14</td>\n",
       "      <td>Being a breast cancer survivor rocks @mandy_cc...</td>\n",
       "      <td>survivor rocks @mandy_ccab</td>\n",
       "      <td>[survivor, rock, mandy_ccab]</td>\n",
       "    </tr>\n",
       "    <tr>\n",
       "      <th>13</th>\n",
       "      <td>1030239631575405056</td>\n",
       "      <td>2018-08-16 23:47:23</td>\n",
       "      <td>I'm scared. Don't wanna tell my family.\\n\\nI l...</td>\n",
       "      <td>i'm scared. wanna tell family. lost one best f...</td>\n",
       "      <td>[scare, wanna, tell, famili, lost, one, best, ...</td>\n",
       "    </tr>\n",
       "    <tr>\n",
       "      <th>14</th>\n",
       "      <td>1065379701538110976</td>\n",
       "      <td>2018-11-21 23:01:29</td>\n",
       "      <td>I go my mammogram done and I don't have any ca...</td>\n",
       "      <td>go mammogram done pray hope cured. #breastcancer</td>\n",
       "      <td>[go, mammogram, done, pray, hope, cure]</td>\n",
       "    </tr>\n",
       "    <tr>\n",
       "      <th>15</th>\n",
       "      <td>1066822538741906944</td>\n",
       "      <td>2018-11-25 22:34:48</td>\n",
       "      <td>Grabbing life by the horns. 37km and numerous ...</td>\n",
       "      <td>grabbing life horns. 37km numerous tube trains...</td>\n",
       "      <td>[grab, life, horn, 37km, numer, tube, train, 3...</td>\n",
       "    </tr>\n",
       "  </tbody>\n",
       "</table>\n",
       "</div>"
      ],
      "text/plain": [
       "                     ID            Timestamp  \\\n",
       "2    853032936324464640  2017-04-14 23:51:15   \n",
       "10   988565743380844544  2018-04-23 23:50:14   \n",
       "13  1030239631575405056  2018-08-16 23:47:23   \n",
       "14  1065379701538110976  2018-11-21 23:01:29   \n",
       "15  1066822538741906944  2018-11-25 22:34:48   \n",
       "\n",
       "                                                 Text  \\\n",
       "2   When people who don't know me try to educate m...   \n",
       "10  Being a breast cancer survivor rocks @mandy_cc...   \n",
       "13  I'm scared. Don't wanna tell my family.\\n\\nI l...   \n",
       "14  I go my mammogram done and I don't have any ca...   \n",
       "15  Grabbing life by the horns. 37km and numerous ...   \n",
       "\n",
       "                                    preprocessed_Text  \\\n",
       "2     people know try educate patient goes through...   \n",
       "10                         survivor rocks @mandy_ccab   \n",
       "13  i'm scared. wanna tell family. lost one best f...   \n",
       "14   go mammogram done pray hope cured. #breastcancer   \n",
       "15  grabbing life horns. 37km numerous tube trains...   \n",
       "\n",
       "                                       tokenized_Text  \n",
       "2              [peopl, know, tri, educ, patient, goe]  \n",
       "10                       [survivor, rock, mandy_ccab]  \n",
       "13  [scare, wanna, tell, famili, lost, one, best, ...  \n",
       "14            [go, mammogram, done, pray, hope, cure]  \n",
       "15  [grab, life, horn, 37km, numer, tube, train, 3...  "
      ]
     },
     "execution_count": 56,
     "metadata": {},
     "output_type": "execute_result"
    }
   ],
   "source": [
    "stemmer = PorterStemmer()\n",
    "def clean_tweets(df=df_tweets, tweet_col='Text', date_col='Timestamp'):\n",
    "    \n",
    "    df_copy = df.copy()\n",
    "    \n",
    "    # drop rows with empty values\n",
    "    df_copy.dropna(inplace=True)\n",
    "    \n",
    "    # lower the tweets\n",
    "    df_copy['preprocessed_' + tweet_col] = df_copy[tweet_col].str.lower()\n",
    "    \n",
    "    # filter out stop words\n",
    "    en_stop_words = set(stopwords.words('english'))\n",
    "    en_stop_words = en_stop_words | \\\n",
    "                        {\n",
    "                            'breast', 'cancer', 'b', 'breastcancer'                        \n",
    "                        }\n",
    "    url_re = re.compile('twitter.com')\n",
    "    df_copy['preprocessed_' + tweet_col] = df_copy['preprocessed_' + tweet_col].apply(lambda row: ' '.join([word for word in row.split() if (not word in en_stop_words) and (not re.search(url_re, word)) ]))\n",
    "    \n",
    "    # tokenize the tweets\n",
    "    #tokenizer = RegexpTokenizer('[a-zA-Z]\\w+\\'?\\w*')\n",
    "    tokenizer = RegexpTokenizer(r\"\\w+\")\n",
    "    df_copy['tokenized_' + tweet_col] = df_copy['preprocessed_' + tweet_col].apply(lambda row: tokenizer.tokenize(row))\n",
    "    \n",
    "    x_re = '^[x][a-zA-Z0-9_]*'\n",
    "    df_copy['tokenized_' + tweet_col] = df_copy['tokenized_' + tweet_col].apply(lambda row: [stemmer.stem(word) for word in row if (not word in en_stop_words) and (not re.match(x_re, word)) ])\n",
    "\n",
    "\n",
    "    \n",
    "    return df_copy\n",
    "  \n",
    "df_tweets_clean = clean_tweets(df_tweets)\n",
    "df_tweets_clean.head()"
   ]
  },
  {
   "cell_type": "markdown",
   "metadata": {},
   "source": [
    "### Train LDA model"
   ]
  },
  {
   "cell_type": "code",
   "execution_count": 60,
   "metadata": {},
   "outputs": [],
   "source": [
    "# the dictionary would create a dictionary and assign an unique id for each word\n",
    "tweets_dictionary = Dictionary(df_tweets_clean.tokenized_Text) \n",
    "\n",
    "# build the corpus i.e. vectors with the number of occurence of each word per tweet\n",
    "tweets_corpus = [tweets_dictionary.doc2bow(tweet) for tweet in df_tweets_clean.tokenized_Text] # corpus would record the number of occurance of each word per tweet but save as a sparse format to save space"
   ]
  },
  {
   "cell_type": "markdown",
   "metadata": {},
   "source": [
    "Here we tune the number of the topics using all the trainning data. It would be better that we split the dataset into train and test then decide the number of topics based on the coherence score in test data. Based on the coherence score, 4 would be a good choice."
   ]
  },
  {
   "cell_type": "code",
   "execution_count": 61,
   "metadata": {},
   "outputs": [
    {
     "name": "stdout",
     "output_type": "stream",
     "text": [
      "CPU times: user 39.1 s, sys: 3.5 s, total: 42.6 s\n",
      "Wall time: 55.5 s\n"
     ]
    }
   ],
   "source": [
    "%%time\n",
    "tweets_coherence = []\n",
    "for nb_topics in range(3, 10):\n",
    "    lda = LdaMulticore(tweets_corpus, num_topics = nb_topics, id2word = tweets_dictionary, passes=10)\n",
    "    cohm = CoherenceModel(model=lda, corpus=tweets_corpus, dictionary=tweets_dictionary, coherence='u_mass')\n",
    "    coh = cohm.get_coherence()\n",
    "    tweets_coherence.append(coh)"
   ]
  },
  {
   "cell_type": "code",
   "execution_count": 62,
   "metadata": {},
   "outputs": [
    {
     "data": {
      "text/plain": [
       "Text(0, 0.5, 'Coherance Score')"
      ]
     },
     "execution_count": 62,
     "metadata": {},
     "output_type": "execute_result"
    },
    {
     "data": {
      "image/png": "[encoded data removed]",
      "text/plain": [
       "<Figure size 432x288 with 1 Axes>"
      ]
     },
     "metadata": {
      "needs_background": "light"
     },
     "output_type": "display_data"
    }
   ],
   "source": [
    "plt.figure()\n",
    "plt.plot(range(3, 10), tweets_coherence)\n",
    "plt.xlabel('Number of Topics')\n",
    "plt.ylabel('Coherance Score')"
   ]
  },
  {
   "cell_type": "code",
   "execution_count": 66,
   "metadata": {},
   "outputs": [
    {
     "name": "stdout",
     "output_type": "stream",
     "text": [
      "CPU times: user 8.53 s, sys: 68.1 ms, total: 8.6 s\n",
      "Wall time: 8.72 s\n"
     ]
    },
    {
     "data": {
      "image/png": "[encoded data removed]",
      "text/plain": [
       "<Figure size 1440x1080 with 4 Axes>"
      ]
     },
     "metadata": {
      "needs_background": "light"
     },
     "output_type": "display_data"
    }
   ],
   "source": [
    "%%time\n",
    "k = 4\n",
    "tweets_lda = LdaModel(tweets_corpus, num_topics = k, id2word = tweets_dictionary, passes=10)\n",
    "def plot_top_words(lda=tweets_lda, nb_topics=k, nb_words=10):\n",
    "    top_words = [[word for word,_ in lda.show_topic(topic_id, topn=50)] for topic_id in range(lda.num_topics)]\n",
    "    top_betas = [[beta for _,beta in lda.show_topic(topic_id, topn=50)] for topic_id in range(lda.num_topics)]\n",
    "\n",
    "    gs  = gridspec.GridSpec(round(math.sqrt(k))+1,round(math.sqrt(k))+1)\n",
    "    gs.update(wspace=0.5, hspace=0.5)\n",
    "    plt.figure(figsize=(20,15))\n",
    "    for i in range(nb_topics):\n",
    "        ax = plt.subplot(gs[i])\n",
    "        plt.barh(range(nb_words), top_betas[i][:nb_words], align='center',color='blue', ecolor='black')\n",
    "        ax.invert_yaxis()\n",
    "        ax.set_yticks(range(nb_words))\n",
    "        ax.set_yticklabels(top_words[i][:nb_words])\n",
    "        plt.title(\"Topic \"+str(i))\n",
    "        \n",
    "  \n",
    "plot_top_words()"
   ]
  },
  {
   "cell_type": "code",
   "execution_count": 67,
   "metadata": {},
   "outputs": [
    {
     "name": "stderr",
     "output_type": "stream",
     "text": [
      "/Users/yhu245/anaconda3/lib/python3.7/site-packages/pyLDAvis/_prepare.py:257: FutureWarning: Sorting because non-concatenation axis is not aligned. A future version\n",
      "of pandas will change to not sort by default.\n",
      "\n",
      "To accept the future behavior, pass 'sort=False'.\n",
      "\n",
      "To retain the current behavior and silence the warning, pass 'sort=True'.\n",
      "\n",
      "  return pd.concat([default_term_info] + list(topic_dfs))\n"
     ]
    },
    {
     "data": {
      "text/html": [
       "\n",
       "<link rel=\"stylesheet\" type=\"text/css\" href=\"https://cdn.rawgit.com/bmabey/pyLDAvis/files/ldavis.v1.0.0.css\">\n",
       "\n",
       "\n",
       "<div id=\"ldavis_el511961406780581262164945621495\"></div>\n",
       "<script type=\"text/javascript\">\n",
       "\n",
       "var ldavis_el511961406780581262164945621495_data = {\"mdsDat\": {\"x\": [-0.04153474590589615, -0.03282804015485209, -0.023146771778040486, 0.09750955783878873], \"y\": [-0.006519259905254278, -0.06641176185657907, 0.07925332640016888, -0.006322304638335544], \"topics\": [1, 2, 3, 4], \"cluster\": [1, 1, 1, 1], \"Freq\": [34.7454948425293, 24.2466983795166, 23.11128807067871, 17.896526336669922]}, \"tinfo\": {\"Category\": [\"Default\", \"Default\", \"Default\", \"Default\", \"Default\", \"Default\", \"Default\", \"Default\", \"Default\", \"Default\", \"Default\", \"Default\", \"Default\", \"Default\", \"Default\", \"Default\", \"Default\", \"Default\", \"Default\", \"Default\", \"Default\", \"Default\", \"Default\", \"Default\", \"Default\", \"Default\", \"Default\", \"Default\", \"Default\", \"Default\", \"Topic1\", \"Topic1\", \"Topic1\", \"Topic1\", \"Topic1\", \"Topic1\", \"Topic1\", \"Topic1\", \"Topic1\", \"Topic1\", \"Topic1\", \"Topic1\", \"Topic1\", \"Topic1\", \"Topic1\", \"Topic1\", \"Topic1\", \"Topic1\", \"Topic1\", \"Topic1\", \"Topic1\", \"Topic1\", \"Topic1\", \"Topic1\", \"Topic1\", \"Topic1\", \"Topic1\", \"Topic1\", \"Topic1\", \"Topic1\", \"Topic1\", \"Topic1\", \"Topic1\", \"Topic1\", \"Topic1\", \"Topic1\", \"Topic1\", \"Topic1\", \"Topic1\", \"Topic1\", \"Topic1\", \"Topic1\", \"Topic1\", \"Topic1\", \"Topic1\", \"Topic1\", \"Topic1\", \"Topic1\", \"Topic1\", \"Topic1\", \"Topic1\", \"Topic1\", \"Topic1\", \"Topic1\", \"Topic1\", \"Topic1\", \"Topic1\", \"Topic1\", \"Topic1\", \"Topic1\", \"Topic1\", \"Topic1\", \"Topic1\", \"Topic1\", \"Topic1\", \"Topic1\", \"Topic1\", \"Topic1\", \"Topic1\", \"Topic1\", \"Topic1\", \"Topic1\", \"Topic1\", \"Topic1\", \"Topic1\", \"Topic2\", \"Topic2\", \"Topic2\", \"Topic2\", \"Topic2\", \"Topic2\", \"Topic2\", \"Topic2\", \"Topic2\", \"Topic2\", \"Topic2\", \"Topic2\", \"Topic2\", \"Topic2\", \"Topic2\", \"Topic2\", \"Topic2\", \"Topic2\", \"Topic2\", \"Topic2\", \"Topic2\", \"Topic2\", \"Topic2\", \"Topic2\", \"Topic2\", \"Topic2\", \"Topic2\", \"Topic2\", \"Topic2\", \"Topic2\", \"Topic2\", \"Topic2\", \"Topic2\", \"Topic2\", \"Topic2\", \"Topic2\", \"Topic2\", \"Topic2\", \"Topic2\", \"Topic2\", \"Topic2\", \"Topic2\", \"Topic2\", \"Topic2\", \"Topic2\", \"Topic2\", \"Topic2\", \"Topic2\", \"Topic2\", \"Topic2\", \"Topic2\", \"Topic2\", \"Topic2\", \"Topic2\", \"Topic2\", \"Topic2\", \"Topic2\", \"Topic2\", \"Topic2\", \"Topic2\", \"Topic2\", \"Topic2\", \"Topic2\", \"Topic2\", \"Topic2\", \"Topic2\", \"Topic2\", \"Topic2\", \"Topic2\", \"Topic2\", \"Topic2\", \"Topic2\", \"Topic2\", \"Topic2\", \"Topic2\", \"Topic2\", \"Topic2\", \"Topic2\", \"Topic2\", \"Topic2\", \"Topic2\", \"Topic2\", \"Topic2\", \"Topic3\", \"Topic3\", \"Topic3\", \"Topic3\", \"Topic3\", \"Topic3\", \"Topic3\", \"Topic3\", \"Topic3\", \"Topic3\", \"Topic3\", \"Topic3\", \"Topic3\", \"Topic3\", \"Topic3\", \"Topic3\", \"Topic3\", \"Topic3\", \"Topic3\", \"Topic3\", \"Topic3\", \"Topic3\", \"Topic3\", \"Topic3\", \"Topic3\", \"Topic3\", \"Topic3\", \"Topic3\", \"Topic3\", \"Topic3\", \"Topic3\", \"Topic3\", \"Topic3\", \"Topic3\", \"Topic3\", \"Topic3\", \"Topic3\", \"Topic3\", \"Topic3\", \"Topic3\", \"Topic3\", \"Topic3\", \"Topic3\", \"Topic3\", \"Topic3\", \"Topic3\", \"Topic3\", \"Topic3\", \"Topic3\", \"Topic3\", \"Topic3\", \"Topic3\", \"Topic3\", \"Topic3\", \"Topic3\", \"Topic3\", \"Topic3\", \"Topic3\", \"Topic3\", \"Topic3\", \"Topic3\", \"Topic3\", \"Topic3\", \"Topic3\", \"Topic3\", \"Topic3\", \"Topic3\", \"Topic3\", \"Topic3\", \"Topic3\", \"Topic3\", \"Topic3\", \"Topic3\", \"Topic3\", \"Topic3\", \"Topic3\", \"Topic3\", \"Topic3\", \"Topic3\", \"Topic3\", \"Topic3\", \"Topic3\", \"Topic3\", \"Topic4\", \"Topic4\", \"Topic4\", \"Topic4\", \"Topic4\", \"Topic4\", \"Topic4\", \"Topic4\", \"Topic4\", \"Topic4\", \"Topic4\", \"Topic4\", \"Topic4\", \"Topic4\", \"Topic4\", \"Topic4\", \"Topic4\", \"Topic4\", \"Topic4\", \"Topic4\", \"Topic4\", \"Topic4\", \"Topic4\", \"Topic4\", \"Topic4\", \"Topic4\", \"Topic4\", \"Topic4\", \"Topic4\", \"Topic4\", \"Topic4\", \"Topic4\", \"Topic4\", \"Topic4\", \"Topic4\", \"Topic4\", \"Topic4\", \"Topic4\", \"Topic4\", \"Topic4\", \"Topic4\", \"Topic4\", \"Topic4\", \"Topic4\", \"Topic4\", \"Topic4\", \"Topic4\", \"Topic4\", \"Topic4\", \"Topic4\", \"Topic4\", \"Topic4\", \"Topic4\", \"Topic4\", \"Topic4\", \"Topic4\", \"Topic4\", \"Topic4\", \"Topic4\", \"Topic4\", \"Topic4\", \"Topic4\", \"Topic4\", \"Topic4\", \"Topic4\", \"Topic4\", \"Topic4\", \"Topic4\", \"Topic4\", \"Topic4\", \"Topic4\", \"Topic4\", \"Topic4\", \"Topic4\", \"Topic4\", \"Topic4\"], \"Freq\": [233.0, 271.0, 125.0, 60.0, 29.0, 90.0, 23.0, 74.0, 84.0, 16.0, 54.0, 29.0, 16.0, 70.0, 56.0, 43.0, 28.0, 16.0, 72.0, 18.0, 35.0, 40.0, 91.0, 37.0, 72.0, 30.0, 76.0, 26.0, 12.0, 24.0, 5.311441898345947, 5.3000807762146, 5.2967119216918945, 12.003804206848145, 5.205010414123535, 4.45914888381958, 4.456300735473633, 4.455705165863037, 4.453503131866455, 4.449824810028076, 4.442532539367676, 4.366796016693115, 8.7003755569458, 3.610461711883545, 3.6103501319885254, 3.608731269836426, 3.5996265411376953, 4.293773174285889, 3.5746028423309326, 4.246059417724609, 13.448668479919434, 3.536004066467285, 16.967103958129883, 2.763461112976074, 2.7634546756744385, 2.763429880142212, 2.7633728981018066, 2.7633402347564697, 2.7633235454559326, 2.763293504714966, 3.4529225826263428, 6.760623931884766, 9.938644409179688, 13.001882553100586, 17.30341148376465, 19.514896392822266, 30.52423095703125, 10.094730377197266, 152.068359375, 16.679607391357422, 12.342280387878418, 28.500551223754883, 25.956499099731445, 8.226499557495117, 26.87032127380371, 46.10706329345703, 48.67530822753906, 60.763694763183594, 46.4923210144043, 39.7799186706543, 14.792119026184082, 22.01383399963379, 35.71369934082031, 35.26424026489258, 17.81855010986328, 38.150699615478516, 34.401973724365234, 39.01102828979492, 29.126848220825195, 41.05754470825195, 75.58317565917969, 45.99855422973633, 38.13521957397461, 31.25747299194336, 42.644386291503906, 40.378273010253906, 28.335201263427734, 35.130767822265625, 38.484214782714844, 25.80509376525879, 29.141834259033203, 28.26361846923828, 29.859375, 28.409582138061523, 27.24289321899414, 4.2417192459106445, 4.225076675415039, 3.4639997482299805, 13.211538314819336, 2.6544153690338135, 2.6533567905426025, 2.651827335357666, 2.650104284286499, 2.6470043659210205, 2.637699604034424, 3.2830371856689453, 2.625622510910034, 2.6158971786499023, 3.267850637435913, 2.5882792472839355, 1.8374543190002441, 1.8374443054199219, 1.837442398071289, 1.8374435901641846, 1.8374419212341309, 1.837425947189331, 1.8374072313308716, 1.8374035358428955, 1.8373935222625732, 1.837368369102478, 1.8373420238494873, 1.8372368812561035, 1.83699369430542, 1.8366050720214844, 1.8364614248275757, 4.902132511138916, 4.196353435516357, 5.913980960845947, 40.598976135253906, 5.891406059265137, 4.165931701660156, 18.819812774658203, 12.82290267944336, 3.5178418159484863, 5.107844352722168, 3.462859869003296, 13.735831260681152, 12.740914344787598, 3.9141926765441895, 3.4127309322357178, 10.921116828918457, 52.36393356323242, 6.618855953216553, 12.89555549621582, 8.485101699829102, 13.828643798828125, 13.71815299987793, 36.025848388671875, 9.155595779418945, 23.8731632232666, 10.275093078613281, 31.524812698364258, 12.70902156829834, 19.805543899536133, 24.1650390625, 25.98217010498047, 31.240724563598633, 30.281641006469727, 26.816587448120117, 17.62367820739746, 22.75136947631836, 33.188602447509766, 22.063072204589844, 25.56525993347168, 22.197315216064453, 46.203311920166016, 20.84222984313965, 21.021854400634766, 39.00823974609375, 27.346858978271484, 20.94346046447754, 23.22643280029297, 22.65883445739746, 22.957529067993164, 18.810365676879883, 19.32242202758789, 16.695646286010742, 16.996004104614258, 4.241044998168945, 3.4380240440368652, 8.189095497131348, 6.649692058563232, 6.644693851470947, 2.62904953956604, 2.6288626194000244, 2.628838062286377, 2.627380609512329, 2.6260483264923096, 2.624459981918335, 2.623494863510132, 2.6229264736175537, 2.62256121635437, 2.6117448806762695, 12.935819625854492, 5.828494071960449, 2.5821032524108887, 2.547527551651001, 2.48069429397583, 1.8198928833007812, 1.8198750019073486, 1.8198703527450562, 1.8198719024658203, 1.8198649883270264, 1.8198643922805786, 1.8198531866073608, 1.819836974143982, 1.819828987121582, 1.8198200464248657, 4.244772911071777, 4.2405195236206055, 4.222640037536621, 4.245595932006836, 12.424127578735352, 8.305277824401855, 4.182009696960449, 9.537818908691406, 6.218704700469971, 3.442145824432373, 4.983705520629883, 19.93950653076172, 36.52083206176758, 12.007742881774902, 39.26060485839844, 25.36879539489746, 5.938078880310059, 19.797632217407227, 6.662101745605469, 28.413171768188477, 5.87425422668457, 12.849085807800293, 6.449924468994141, 16.96210289001465, 10.858527183532715, 19.18632698059082, 65.29966735839844, 10.074380874633789, 35.637393951416016, 15.856654167175293, 34.86991882324219, 17.579933166503906, 12.535053253173828, 31.648792266845703, 20.728195190429688, 46.11958312988281, 31.423465728759766, 21.896957397460938, 14.382391929626465, 26.16205596923828, 21.380264282226562, 13.892606735229492, 14.412179946899414, 20.199316024780273, 20.393150329589844, 20.130773544311523, 17.62994956970215, 18.017805099487305, 17.037168502807617, 17.11290740966797, 16.943246841430664, 16.15911293029785, 16.233640670776367, 3.9954450130462646, 3.2547385692596436, 3.250678777694702, 3.249016046524048, 3.242060899734497, 3.240577459335327, 2.4894649982452393, 2.4879567623138428, 2.4864819049835205, 2.4862310886383057, 2.4859488010406494, 2.483607530593872, 2.4796152114868164, 2.4713521003723145, 3.014110803604126, 2.315995693206787, 1.7235027551651, 1.7235031127929688, 1.7234758138656616, 1.7234792709350586, 1.7234692573547363, 1.723466157913208, 1.7234526872634888, 1.7234549522399902, 1.7234536409378052, 1.7234333753585815, 1.7233898639678955, 1.723395824432373, 1.7233433723449707, 1.7232707738876343, 3.9916720390319824, 6.327974319458008, 6.162724494934082, 3.7182040214538574, 4.579651832580566, 3.186784029006958, 7.212299346923828, 3.179291009902954, 13.150474548339844, 7.305039405822754, 3.124476194381714, 14.328847885131836, 6.294482231140137, 3.0688445568084717, 73.10257720947266, 13.294109344482422, 7.121796131134033, 21.739843368530273, 12.42202091217041, 15.489644050598145, 9.108593940734863, 21.729267120361328, 10.823795318603516, 20.120588302612305, 12.934295654296875, 24.76289939880371, 17.647857666015625, 20.926433563232422, 14.750396728515625, 24.1820125579834, 18.363466262817383, 13.19539737701416, 18.00802230834961, 15.43560791015625, 19.95307159423828, 12.3711519241333, 13.0453519821167, 15.004284858703613, 12.739168167114258, 12.069991111755371, 13.23844051361084, 12.790005683898926, 9.674407005310059, 11.984326362609863, 11.765894889831543, 11.380819320678711], \"Term\": [\"survivor\", \"year\", \"chemo\", \"feel\", \"side\", \"day\", \"surviv\", \"surgeri\", \"tamoxifen\", \"system\", \"radiat\", \"tri\", \"recurr\", \"take\", \"week\", \"diagnosi\", \"ever\", \"immun\", \"stage\", \"effect\", \"support\", \"famili\", \"one\", \"wish\", \"work\", \"u\", \"need\", \"left\", \"vote\", \"stay\", \"grandson\", \"pregnant\", \"team\", \"11\", \"jaywhyel\", \"practic\", \"flu\", \"fundrais\", \"taxol\", \"okay\", \"that\", \"consult\", \"three\", \"cancersurvivor\", \"genet\", \"walker\", \"prescrib\", \"referr\", \"ribbon\", \"infus\", \"tripl\", \"relief\", \"neg\", \"wast\", \"critic\", \"lifelin\", \"rash\", \"shall\", \"chirp\", \"demetriusharmon\", \"perform\", \"primari\", \"self\", \"cure\", \"test\", \"two\", \"diagnosi\", \"pink\", \"year\", \"anoth\", \"round\", \"us\", \"old\", \"20\", \"realli\", \"4\", \"one\", \"thank\", \"know\", \"got\", \"follow\", \"think\", \"stage\", \"3\", \"metastat\", \"amp\", \"work\", \"life\", \"good\", \"like\", \"survivor\", \"chemo\", \"2\", \"ago\", \"get\", \"go\", \"month\", \"time\", \"treatment\", \"week\", \"need\", \"last\", \"diagnos\", \"love\", \"help\", \"medicin\", \"tablet\", \"op\", \"recurr\", \"forev\", \"st\", \"card\", \"shot\", \"caregiv\", \"suggest\", \"florida\", \"servic\", \"samheughan\", \"2012\", \"commit\", \"lorazepam\", \"adjunct\", \"jeep\", \"mg\", \"anywher\", \"independ\", \"statefarm\", \"darrenhay\", \"reliev\", \"iamasurvivor\", \"statement\", \"induc\", \"societi\", \"horror\", \"significantli\", \"financi\", \"fact\", \"risk\", \"feel\", \"reduc\", \"mention\", \"side\", \"oncologist\", \"bleed\", \"date\", \"box\", \"stop\", \"im\", \"suppos\", \"flush\", \"effect\", \"chemo\", \"word\", \"recent\", \"prevent\", \"insur\", \"husband\", \"love\", \"menopaus\", \"week\", \"part\", \"tamoxifen\", \"left\", \"5\", \"still\", \"need\", \"time\", \"like\", \"amp\", \"keep\", \"want\", \"treatment\", \"month\", \"diagnos\", \"last\", \"year\", \"would\", \"3\", \"survivor\", \"get\", \"work\", \"one\", \"2\", \"go\", \"take\", \"help\", \"start\", \"thank\", \"obamacar\", \"alaskaair\", \"dohertyshannen\", \"biopsi\", \"fought\", \"jame\", \"dysfunct\", \"erectil\", \"disori\", \"fr\", \"easier\", \"outsid\", \"mommi\", \"partner\", \"brutal\", \"system\", \"remind\", \"suit\", \"nhe\", \"rep\", \"limbaugh\", \"spin\", \"cbn\", \"michaelscodub\", \"sublim\", \"outcom\", \"optimist\", \"shaq\", \"store\", \"bloodi\", \"sod\", \"iamandiwil\", \"schedul\", \"tumour\", \"immun\", \"list\", \"mass\", \"sister\", \"doc\", \"preexist\", \"breastcancersurvivor\", \"support\", \"surgeri\", \"strong\", \"day\", \"radiat\", \"compromis\", \"famili\", \"mri\", \"today\", \"difficult\", \"stay\", \"recoveri\", \"wish\", \"away\", \"much\", \"year\", \"understand\", \"thank\", \"god\", \"treatment\", \"live\", \"medic\", \"go\", \"back\", \"survivor\", \"get\", \"ago\", \"friend\", \"chemo\", \"tamoxifen\", \"right\", \"mastectomi\", \"diagnos\", \"know\", \"time\", \"last\", \"one\", \"got\", \"love\", \"life\", \"work\", \"help\", \"deduct\", \"certainli\", \"onlin\", \"l\", \"pult\", \"apart\", \"india\", \"paper\", \"price\", \"premium\", \"polici\", \"supplement\", \"market\", \"review\", \"race\", \"screw\", \"despair\", \"profit\", \"drag\", \"sweetpea\", \"lotteri\", \"powerbal\", \"identifi\", \"pocket\", \"kitchen\", \"nfl\", \"prais\", \"inflammatori\", \"bosnerdley\", \"blog\", \"attend\", \"man\", \"win\", \"attitud\", \"exist\", \"regardless\", \"fuck\", \"ibranc\", \"surviv\", \"vote\", \"beyond\", \"tri\", \"7\", \"access\", \"survivor\", \"ever\", \"pre\", \"take\", \"could\", \"peopl\", \"sorri\", \"life\", \"u\", \"help\", \"tell\", \"go\", \"stage\", \"2\", \"yr\", \"get\", \"tamoxifen\", \"also\", \"day\", \"need\", \"treatment\", \"make\", \"back\", \"time\", \"would\", \"want\", \"like\", \"know\", \"right\", \"diagnos\", \"love\", \"4\"], \"Total\": [233.0, 271.0, 125.0, 60.0, 29.0, 90.0, 23.0, 74.0, 84.0, 16.0, 54.0, 29.0, 16.0, 70.0, 56.0, 43.0, 28.0, 16.0, 72.0, 18.0, 35.0, 40.0, 91.0, 37.0, 72.0, 30.0, 76.0, 26.0, 12.0, 24.0, 5.9133524894714355, 5.9124016761779785, 5.911965370178223, 13.478827476501465, 5.9076361656188965, 5.062717437744141, 5.0623979568481445, 5.062438011169434, 5.062399387359619, 5.061941146850586, 5.060800075531006, 5.057204246520996, 10.123434066772461, 4.212000370025635, 4.212158203125, 4.211772441864014, 4.2113471031188965, 5.045741558074951, 4.2099103927612305, 5.041605472564697, 15.977066993713379, 4.208160877227783, 20.193151473999023, 3.3616654872894287, 3.361661195755005, 3.361654281616211, 3.3616397380828857, 3.36163330078125, 3.361619234085083, 3.361614942550659, 4.203883647918701, 8.410919189453125, 12.551872253417969, 16.75591278076172, 23.49657440185547, 26.807147979736328, 43.41557693481445, 13.432933807373047, 271.2153015136719, 23.4090576171875, 16.805519104003906, 44.25724792480469, 40.01969909667969, 10.804275512695312, 42.180259704589844, 81.04035949707031, 91.51253509521484, 123.90950012207031, 91.47883605957031, 76.89362335205078, 22.472915649414062, 38.74253463745117, 72.09657287597656, 72.56782531738281, 29.721839904785156, 81.85308837890625, 72.2323226928711, 88.99038696289062, 60.40610122680664, 97.0300521850586, 233.81356811523438, 125.67155456542969, 95.57492065429688, 72.69080352783203, 125.59671783447266, 119.74748992919922, 66.88862609863281, 101.50655364990234, 126.49581146240234, 56.43121337890625, 76.05558776855469, 74.84430694580078, 87.60828399658203, 93.3142318725586, 82.91954803466797, 4.896289348602295, 4.89572286605835, 4.077615737915039, 16.204376220703125, 3.2610628604888916, 3.261042833328247, 3.2609806060791016, 3.261228084564209, 3.2613461017608643, 3.261256694793701, 4.074747562408447, 3.261530876159668, 3.262136459350586, 4.084184646606445, 3.25705623626709, 2.4440371990203857, 2.444035291671753, 2.4440343379974365, 2.4440360069274902, 2.444035053253174, 2.44403076171875, 2.4440245628356934, 2.444021224975586, 2.4440205097198486, 2.4440090656280518, 2.4440317153930664, 2.4440419673919678, 2.444049119949341, 2.4440219402313232, 2.4440159797668457, 6.562777996063232, 5.659977436065674, 8.063017845153809, 60.29772186279297, 8.228564262390137, 5.736330509185791, 29.36090087890625, 19.48164939880371, 4.897222995758057, 7.329701900482178, 4.8432698249816895, 21.950775146484375, 20.284664154052734, 5.637825012207031, 4.93005895614624, 18.689924240112305, 125.67155456542969, 10.580353736877441, 24.486709594726562, 14.567567825317383, 27.123559951782227, 26.925418853759766, 93.3142318725586, 16.18587875366211, 56.43121337890625, 18.928956985473633, 84.04815673828125, 26.592588424682617, 48.486297607421875, 64.97047424316406, 76.05558776855469, 101.50655364990234, 97.0300521850586, 81.85308837890625, 45.01770782470703, 67.98855590820312, 126.49581146240234, 66.88862609863281, 87.60828399658203, 74.84430694580078, 271.2153015136719, 69.48775482177734, 72.56782531738281, 233.81356811523438, 125.59671783447266, 72.2323226928711, 91.51253509521484, 95.57492065429688, 119.74748992919922, 70.91561126708984, 82.91954803466797, 47.146976470947266, 123.90950012207031, 4.856225967407227, 4.046756267547607, 9.718549728393555, 8.054975509643555, 8.132118225097656, 3.23761248588562, 3.237572193145752, 3.2375636100769043, 3.237522602081299, 3.2377610206604004, 3.237438678741455, 3.2377121448516846, 3.237905740737915, 3.2377820014953613, 3.2377243041992188, 16.061687469482422, 7.241995334625244, 3.2397196292877197, 3.241431951522827, 3.230548858642578, 2.4284214973449707, 2.4284162521362305, 2.4284136295318604, 2.4284162521362305, 2.4284136295318604, 2.4284136295318604, 2.4284136295318604, 2.42840576171875, 2.4284026622772217, 2.4284000396728516, 5.6721930503845215, 5.672306060791016, 5.670554161071777, 5.705203533172607, 16.934459686279297, 11.451690673828125, 5.708752155303955, 13.786568641662598, 8.856245994567871, 4.81272554397583, 7.301768779754639, 35.77790451049805, 74.92977142333984, 20.34847068786621, 90.64279174804688, 54.238040924072266, 8.977746963500977, 40.89718246459961, 10.51725959777832, 66.31568908691406, 9.005633354187012, 24.574495315551758, 10.342212677001953, 37.00868225097656, 21.125532150268555, 47.40637969970703, 271.2153015136719, 19.64109230041504, 123.90950012207031, 38.84526443481445, 126.49581146240234, 46.091636657714844, 28.50397300720215, 119.74748992919922, 62.52470397949219, 233.81356811523438, 125.59671783447266, 72.69080352783203, 36.747406005859375, 125.67155456542969, 84.04815673828125, 36.22278594970703, 39.51611328125, 87.60828399658203, 91.47883605957031, 101.50655364990234, 74.84430694580078, 91.51253509521484, 76.89362335205078, 93.3142318725586, 88.99038696289062, 72.2323226928711, 82.91954803466797, 4.643097877502441, 3.875429391860962, 3.8757681846618652, 3.875767230987549, 3.8762683868408203, 3.876952648162842, 3.109065532684326, 3.109099864959717, 3.109269380569458, 3.109250545501709, 3.1093361377716064, 3.109442949295044, 3.109670639038086, 3.1103386878967285, 3.901350259780884, 3.1276142597198486, 2.3427746295928955, 2.342775583267212, 2.3427681922912598, 2.3427765369415283, 2.342773675918579, 2.342773675918579, 2.3427624702453613, 2.342766523361206, 2.3427703380584717, 2.3427610397338867, 2.3427467346191406, 2.3427553176879883, 2.3427367210388184, 2.342761516571045, 5.492561340332031, 9.406486511230469, 9.508258819580078, 5.508364200592041, 7.052734375, 4.688171863555908, 11.883321762084961, 4.688594818115234, 23.991302490234375, 12.758562088012695, 4.7053704261779785, 29.570823669433594, 11.193757057189941, 4.701953887939453, 233.81356811523438, 28.70003318786621, 14.272621154785156, 70.91561126708984, 34.642578125, 48.485382080078125, 22.50025749206543, 88.99038696289062, 30.843196868896484, 82.91954803466797, 41.305877685546875, 119.74748992919922, 72.09657287597656, 95.57492065429688, 54.32847213745117, 125.59671783447266, 84.04815673828125, 50.49115753173828, 90.64279174804688, 76.05558776855469, 126.49581146240234, 52.206886291503906, 62.52470397949219, 101.50655364990234, 69.48775482177734, 67.98855590820312, 97.0300521850586, 91.47883605957031, 36.22278594970703, 87.60828399658203, 93.3142318725586, 81.04035949707031], \"loglift\": [30.0, 29.0, 28.0, 27.0, 26.0, 25.0, 24.0, 23.0, 22.0, 21.0, 20.0, 19.0, 18.0, 17.0, 16.0, 15.0, 14.0, 13.0, 12.0, 11.0, 10.0, 9.0, 8.0, 7.0, 6.0, 5.0, 4.0, 3.0, 2.0, 1.0, 0.9498000144958496, 0.9477999806404114, 0.9472000002861023, 0.9412000179290771, 0.9304999709129333, 0.9301999807357788, 0.9296000003814697, 0.9294999837875366, 0.9290000200271606, 0.9282000064849854, 0.926800012588501, 0.9103000164031982, 0.9056000113487244, 0.902999997138977, 0.902899980545044, 0.9025999903678894, 0.9002000093460083, 0.8956999778747559, 0.8934999704360962, 0.8853999972343445, 0.8848000168800354, 0.8830999732017517, 0.8830999732017517, 0.8611999750137329, 0.8611999750137329, 0.8611999750137329, 0.8611000180244446, 0.8611000180244446, 0.8611000180244446, 0.8611000180244446, 0.8603000044822693, 0.838699996471405, 0.8237000107765198, 0.8034999966621399, 0.7512000203132629, 0.7396000027656555, 0.704800009727478, 0.771399974822998, 0.47850000858306885, 0.7182000279426575, 0.7483999729156494, 0.6169999837875366, 0.6241999864578247, 0.784500002861023, 0.6061999797821045, 0.49309998750686646, 0.42579999566078186, 0.34459999203681946, 0.38029998540878296, 0.39809998869895935, 0.6388999819755554, 0.4918999969959259, 0.3546000123023987, 0.33550000190734863, 0.5454999804496765, 0.2937000095844269, 0.31529998779296875, 0.23240000009536743, 0.3276999890804291, 0.19709999859333038, -0.0722000002861023, 0.05209999904036522, 0.13830000162124634, 0.21320000290870667, -0.023099999874830246, -0.029999999329447746, 0.19820000231266022, -0.0038999998942017555, -0.13279999792575836, 0.27469998598098755, 0.09780000150203705, 0.08330000191926956, -0.019300000742077827, -0.13210000097751617, -0.0560000017285347, 1.2733999490737915, 1.2696000337600708, 1.2538000345230103, 1.2127000093460083, 1.2110999822616577, 1.2107000350952148, 1.2101000547409058, 1.2094000577926636, 1.2081999778747559, 1.204699993133545, 1.2007999420166016, 1.2000000476837158, 1.1960999965667725, 1.1938999891281128, 1.1871000528335571, 1.131600022315979, 1.131600022315979, 1.131600022315979, 1.131600022315979, 1.131600022315979, 1.131600022315979, 1.131600022315979, 1.131600022315979, 1.131600022315979, 1.131600022315979, 1.131600022315979, 1.131500005722046, 1.1313999891281128, 1.1311999559402466, 1.131100058555603, 1.125100016593933, 1.1176999807357788, 1.1068999767303467, 1.021299958229065, 1.082800030708313, 1.097000002861023, 0.972100019454956, 0.9986000061035156, 1.0860999822616577, 1.0556999444961548, 1.0814000368118286, 0.9480999708175659, 0.9517999887466431, 1.0520000457763672, 1.0491000413894653, 0.8795999884605408, 0.5414000153541565, 0.9477999806404114, 0.775600016117096, 0.8763999938964844, 0.7432000041007996, 0.7425000071525574, 0.4652000069618225, 0.847100019454956, 0.5565999746322632, 0.805899977684021, 0.43630000948905945, 0.678600013256073, 0.5216000080108643, 0.4278999865055084, 0.34279999136924744, 0.23849999904632568, 0.2524000108242035, 0.3009999990463257, 0.47909998893737793, 0.3222000002861023, 0.07890000194311142, 0.3077999949455261, 0.18520000576972961, 0.20149999856948853, -0.3529999852180481, 0.2126999944448471, 0.17790000140666962, -0.37389999628067017, -0.10760000348091125, 0.17880000174045563, 0.04569999873638153, -0.02250000089406967, -0.23479999601840973, 0.08980000019073486, -0.03970000147819519, 0.37880000472068787, -0.5697000026702881, 1.3293999433517456, 1.301800012588501, 1.2935999631881714, 1.2731000185012817, 1.2627999782562256, 1.256600022315979, 1.256600022315979, 1.256600022315979, 1.25600004196167, 1.2553999423980713, 1.2548999786376953, 1.2545000314712524, 1.2541999816894531, 1.25409996509552, 1.25, 1.2483999729156494, 1.2476999759674072, 1.2380000352859497, 1.2239999771118164, 1.200700044631958, 1.1763999462127686, 1.1763999462127686, 1.1763999462127686, 1.1763999462127686, 1.1763999462127686, 1.1763999462127686, 1.1763999462127686, 1.1763999462127686, 1.1763999462127686, 1.1763999462127686, 1.1749999523162842, 1.1739000082015991, 1.1699999570846558, 1.1693999767303467, 1.1550999879837036, 1.1435999870300293, 1.1535999774932861, 1.0964000225067139, 1.111299991607666, 1.129699945449829, 1.082900047302246, 0.8802000284194946, 0.7462000250816345, 0.9373999834060669, 0.6280999779701233, 0.7049999833106995, 1.0514999628067017, 0.7394000291824341, 1.0082999467849731, 0.6172999739646912, 1.037600040435791, 0.8163999915122986, 0.9926999807357788, 0.6847000122070312, 0.7993000149726868, 0.5602999925613403, 0.04089999943971634, 0.7972000241279602, 0.21870000660419464, 0.5688999891281128, 0.17630000412464142, 0.5009999871253967, 0.6432999968528748, 0.13420000672340393, 0.36079999804496765, -0.15839999914169312, 0.07930000126361847, 0.26499998569488525, 0.5267999768257141, -0.10450000315904617, 0.09589999914169312, 0.5065000057220459, 0.4562000036239624, -0.002400000113993883, -0.03610000014305115, -0.15299999713897705, 0.01899999938905239, -0.16030000150203705, -0.0421999990940094, -0.2312999963760376, -0.19380000233650208, -0.032600000500679016, -0.16590000689029694, 1.5702999830245972, 1.5460000038146973, 1.544700026512146, 1.5441999435424805, 1.5419000387191772, 1.5413000583648682, 1.4982999563217163, 1.4976999759674072, 1.496999979019165, 1.496899962425232, 1.4967999458312988, 1.4958000183105469, 1.4941999912261963, 1.4905999898910522, 1.462499976158142, 1.4200999736785889, 1.413599967956543, 1.413599967956543, 1.413599967956543, 1.413599967956543, 1.413599967956543, 1.413599967956543, 1.413599967956543, 1.413599967956543, 1.413599967956543, 1.413599967956543, 1.4134999513626099, 1.4134999513626099, 1.4134999513626099, 1.4134999513626099, 1.4013999700546265, 1.3241000175476074, 1.2869000434875488, 1.3274999856948853, 1.2888000011444092, 1.3344999551773071, 1.2211999893188477, 1.3321000337600708, 1.1193000078201294, 1.1628999710083008, 1.3111000061035156, 0.9961000084877014, 1.1448999643325806, 1.2939000129699707, 0.5579000115394592, 0.9509999752044678, 1.0254000425338745, 0.5382000207901001, 0.6949999928474426, 0.5795000195503235, 0.8162999749183655, 0.310699999332428, 0.6733999848365784, 0.3043999969959259, 0.5594000220298767, 0.1445000022649765, 0.3131999969482422, 0.20170000195503235, 0.41679999232292175, 0.0731000006198883, 0.19949999451637268, 0.37860000133514404, 0.10450000315904617, 0.1257999986410141, -0.12630000710487366, 0.2806999981403351, 0.1534000039100647, -0.19120000302791595, 0.02410000003874302, -0.008100000210106373, -0.27129998803138733, -0.24690000712871552, 0.4004000127315521, -0.2687000036239624, -0.35019999742507935, -0.24250000715255737], \"logprob\": [30.0, 29.0, 28.0, 27.0, 26.0, 25.0, 24.0, 23.0, 22.0, 21.0, 20.0, 19.0, 18.0, 17.0, 16.0, 15.0, 14.0, 13.0, 12.0, 11.0, 10.0, 9.0, 8.0, 7.0, 6.0, 5.0, 4.0, 3.0, 2.0, 1.0, -7.287600040435791, -7.289700031280518, -7.290299892425537, -6.4721999168396, -7.307799816131592, -7.462500095367432, -7.463099956512451, -7.463200092315674, -7.463699817657471, -7.464600086212158, -7.46619987487793, -7.483399868011475, -6.794099807739258, -7.673600196838379, -7.673600196838379, -7.674099922180176, -7.676599979400635, -7.50029993057251, -7.683599948883057, -7.51140022277832, -6.358500003814697, -7.694399833679199, -6.126100063323975, -7.940899848937988, -7.940899848937988, -7.940899848937988, -7.940999984741211, -7.940999984741211, -7.940999984741211, -7.940999984741211, -7.718200206756592, -7.046299934387207, -6.660999774932861, -6.392300128936768, -6.106500148773193, -5.986199855804443, -5.538899898529053, -6.645400047302246, -3.9330999851226807, -6.143199920654297, -6.444399833679199, -5.607500076293945, -5.701000213623047, -6.850100040435791, -5.666399955749512, -5.126500129699707, -5.072199821472168, -4.850399971008301, -5.118100166320801, -5.274099826812744, -6.263299942016602, -5.865699768066406, -5.381899833679199, -5.394499778747559, -6.077199935913086, -5.315899848937988, -5.419300079345703, -5.293600082397461, -5.5858001708984375, -5.242400169372559, -4.632199764251709, -5.128799915313721, -5.316299915313721, -5.515200138092041, -5.204500198364258, -5.259099960327148, -5.61329984664917, -5.3983001708984375, -5.307199954986572, -5.7067999839782715, -5.58519983291626, -5.615799903869629, -5.5609002113342285, -5.6107001304626465, -5.652599811553955, -7.152699947357178, -7.156599998474121, -7.355199813842773, -6.016600131988525, -7.621399879455566, -7.621799945831299, -7.622399806976318, -7.623000144958496, -7.624199867248535, -7.627699851989746, -7.408899784088135, -7.632299900054932, -7.636000156402588, -7.41349983215332, -7.646699905395508, -7.989299774169922, -7.989299774169922, -7.989299774169922, -7.989299774169922, -7.989299774169922, -7.989299774169922, -7.989299774169922, -7.989299774169922, -7.989299774169922, -7.989299774169922, -7.989299774169922, -7.9893999099731445, -7.989500045776367, -7.989699840545654, -7.989799976348877, -7.007999897003174, -7.163400173187256, -6.820300102233887, -4.893899917602539, -6.82420015335083, -7.1707000732421875, -5.662700176239014, -6.04640007019043, -7.339799880981445, -6.966899871826172, -7.355599880218506, -5.97760009765625, -6.052800178527832, -7.232999801635742, -7.370100021362305, -6.206900119781494, -4.639400005340576, -6.707699775695801, -6.040800094604492, -6.4593000411987305, -5.970900058746338, -5.978899955749512, -5.013400077819824, -6.383299827575684, -5.424900054931641, -6.267899990081787, -5.146900177001953, -6.055300235748291, -5.611700057983398, -5.412700176239014, -5.340199947357178, -5.155900001525879, -5.187099933624268, -5.308599948883057, -5.728400230407715, -5.4730000495910645, -5.095399856567383, -5.503699779510498, -5.356400012969971, -5.497700214385986, -4.764599800109863, -5.560699939727783, -5.55210018157959, -4.933899879455566, -5.289000034332275, -5.555799961090088, -5.452400207519531, -5.477099895477295, -5.464000225067139, -5.6631999015808105, -5.63640022277832, -5.78249979019165, -5.764699935913086, -7.104899883270264, -7.314799785614014, -6.446899890899658, -6.655099868774414, -6.655900001525879, -7.583099842071533, -7.583099842071533, -7.583099842071533, -7.583700180053711, -7.584199905395508, -7.584799766540527, -7.58519983291626, -7.585400104522705, -7.5854997634887695, -7.589700222015381, -5.989699840545654, -6.786900043487549, -7.601099967956543, -7.61460018157959, -7.64109992980957, -7.950900077819824, -7.950900077819824, -7.950900077819824, -7.950900077819824, -7.950900077819824, -7.950900077819824, -7.950900077819824, -7.950900077819824, -7.950900077819824, -7.951000213623047, -7.104000091552734, -7.105000019073486, -7.1092000007629395, -7.103799819946289, -6.03000020980835, -6.432799816131592, -7.118899822235107, -6.294400215148926, -6.722099781036377, -7.313600063323975, -6.94350004196167, -5.557000160217285, -4.9517998695373535, -6.0640997886657715, -4.879499912261963, -5.316199779510498, -6.7683000564575195, -5.5640997886657715, -6.653299808502197, -5.2027997970581055, -6.779099941253662, -5.996399879455566, -6.6855998039245605, -5.718699932098389, -6.164700031280518, -5.5954999923706055, -4.370699882507324, -6.239699840545654, -4.97629976272583, -5.786099910736084, -4.9980998039245605, -5.6828999519348145, -6.021200180053711, -5.09499979019165, -5.518199920654297, -4.718500137329102, -5.102099895477295, -5.4633002281188965, -5.883699893951416, -5.285399913787842, -5.487199783325195, -5.918300151824951, -5.8815999031066895, -5.544000148773193, -5.5345001220703125, -5.547399997711182, -5.680099964141846, -5.658299922943115, -5.714300155639648, -5.70989990234375, -5.719799995422363, -5.767199993133545, -5.762599945068359, -6.90880012512207, -7.113900184631348, -7.115099906921387, -7.115600109100342, -7.117800235748291, -7.118199825286865, -7.381899833679199, -7.382500171661377, -7.3831000328063965, -7.383200168609619, -7.383299827575684, -7.384300231933594, -7.385900020599365, -7.389200210571289, -7.190700054168701, -7.454100131988525, -7.749599933624268, -7.749599933624268, -7.749599933624268, -7.749599933624268, -7.749599933624268, -7.749599933624268, -7.749599933624268, -7.749599933624268, -7.749599933624268, -7.74970006942749, -7.74970006942749, -7.74970006942749, -7.74970006942749, -7.74970006942749, -6.909800052642822, -6.448999881744385, -6.475500106811523, -6.9807000160217285, -6.77239990234375, -7.135000228881836, -6.31820011138916, -7.13730001449585, -5.71750020980835, -6.3053998947143555, -7.154699802398682, -5.631700038909912, -6.4542999267578125, -7.172699928283691, -4.002099990844727, -5.706699848175049, -6.3308000564575195, -5.214799880981445, -5.774499893188477, -5.553800106048584, -6.084799766540527, -5.2153000831604, -5.912199974060059, -5.292200088500977, -5.734099864959717, -5.08459997177124, -5.423399925231934, -5.252999782562256, -5.602700233459473, -5.108399868011475, -5.383600234985352, -5.714099884033203, -5.403200149536133, -5.557300090789795, -5.300600051879883, -5.778600215911865, -5.725500106811523, -5.585599899291992, -5.749300003051758, -5.803299903869629, -5.7108001708984375, -5.745299816131592, -6.024499893188477, -5.810400009155273, -5.828800201416016, -5.861999988555908]}, \"token.table\": {\"Topic\": [1, 4, 1, 2, 3, 4, 1, 4, 2, 1, 2, 3, 4, 1, 2, 3, 4, 1, 2, 3, 4, 1, 4, 3, 4, 2, 1, 2, 3, 4, 3, 1, 2, 3, 4, 1, 2, 3, 4, 1, 3, 4, 2, 4, 1, 4, 1, 2, 4, 1, 2, 3, 4, 1, 2, 3, 4, 2, 4, 3, 4, 2, 3, 4, 3, 4, 2, 4, 2, 3, 3, 1, 2, 2, 3, 4, 1, 2, 3, 4, 1, 2, 1, 2, 3, 1, 1, 2, 3, 4, 1, 1, 2, 3, 4, 2, 2, 3, 1, 2, 3, 4, 4, 1, 4, 1, 2, 3, 4, 1, 2, 3, 4, 1, 2, 3, 3, 2, 3, 4, 2, 3, 4, 3, 3, 2, 3, 4, 3, 1, 2, 3, 4, 2, 3, 4, 2, 4, 1, 2, 3, 4, 1, 2, 3, 4, 1, 2, 2, 1, 1, 2, 1, 3, 4, 2, 1, 3, 3, 1, 2, 3, 4, 1, 2, 3, 4, 1, 1, 1, 2, 3, 4, 1, 2, 3, 4, 1, 2, 3, 4, 1, 2, 3, 4, 1, 2, 3, 4, 1, 1, 2, 3, 4, 2, 1, 2, 3, 4, 2, 3, 2, 3, 4, 4, 1, 2, 3, 4, 2, 3, 4, 2, 4, 2, 4, 1, 1, 2, 3, 4, 3, 1, 2, 1, 2, 3, 4, 4, 1, 2, 3, 4, 4, 1, 2, 3, 4, 1, 2, 3, 1, 2, 3, 4, 1, 1, 2, 3, 4, 3, 1, 3, 1, 2, 3, 4, 2, 4, 1, 2, 3, 4, 1, 2, 3, 4, 1, 3, 4, 4, 1, 3, 1, 2, 3, 4, 1, 2, 3, 4, 2, 2, 3, 4, 1, 2, 1, 2, 3, 4, 2, 3, 3, 1, 2, 3, 4, 1, 3, 4, 1, 2, 3, 4, 1, 2, 3, 4, 1, 3, 4, 4, 3, 3, 1, 1, 2, 3, 4, 1, 2, 3, 4, 1, 2, 3, 4, 4, 2, 3, 3, 3, 4, 1, 2, 4, 3, 1, 2, 3, 4, 1, 1, 2, 3, 4, 4, 4, 1, 4, 1, 2, 3, 4, 3, 4, 1, 4, 1, 1, 2, 3, 4, 4, 1, 3, 4, 4, 4, 1, 2, 3, 4, 1, 1, 2, 3, 4, 1, 2, 3, 4, 3, 4, 2, 3, 4, 1, 2, 1, 3, 4, 1, 2, 3, 4, 3, 4, 1, 1, 2, 3, 4, 2, 4, 1, 2, 3, 2, 2, 3, 4, 1, 2, 4, 2, 1, 3, 2, 1, 2, 3, 2, 1, 2, 3, 4, 2, 2, 3, 1, 2, 3, 4, 3, 2, 1, 2, 3, 4, 1, 2, 3, 4, 2, 2, 1, 3, 4, 1, 2, 3, 4, 1, 2, 3, 4, 3, 1, 2, 3, 4, 3, 2, 3, 4, 1, 2, 3, 4, 2, 4, 1, 2, 3, 4, 1, 2, 4, 1, 2, 3, 4, 4, 3, 4, 2, 1, 2, 3, 4, 1, 2, 3, 4, 1, 1, 1, 2, 3, 4, 1, 2, 3, 1, 2, 3, 4, 1, 1, 2, 3, 4, 1, 3, 1, 2, 3, 4, 1, 2, 3, 4, 1, 2, 3, 4, 1, 2, 3, 4, 1, 3, 4, 1, 3, 1, 2, 3, 4, 1, 2, 3, 4, 1, 2, 3, 4, 1, 2, 3, 4, 1, 3, 4, 1, 1, 2, 3, 4, 1, 1, 2, 3, 4, 1, 4, 1, 2, 3, 1, 2, 3, 4, 1, 2, 3, 4, 1, 2, 3, 4, 1, 2, 3, 4, 1, 2, 3, 4], \"Freq\": [0.8902851343154907, 0.07419043034315109, 0.3975938558578491, 0.24064891040325165, 0.1464819461107254, 0.2197229117155075, 0.7404476404190063, 0.1851119101047516, 0.7345407605171204, 0.48230740427970886, 0.2893844544887543, 0.08268126845359802, 0.1378021240234375, 0.5676184296607971, 0.17275342345237732, 0.12339530885219574, 0.13573484122753143, 0.2887413799762726, 0.4124876856803894, 0.2681169807910919, 0.04124876856803894, 0.35734203457832336, 0.5360130667686462, 0.21267753839492798, 0.6380326151847839, 0.818318784236908, 0.4264638423919678, 0.22011037170886993, 0.3026517629623413, 0.04127069562673569, 0.7413344979286194, 0.3763035237789154, 0.2574708163738251, 0.09902723878622055, 0.2574708163738251, 0.46424639225006104, 0.32985925674438477, 0.1221700981259346, 0.08551906794309616, 0.7262146472930908, 0.2135925441980362, 0.04271850734949112, 0.8183188438415527, 0.7738036513328552, 0.18206441402435303, 0.7282576560974121, 0.18154209852218628, 0.18154209852218628, 0.7261683940887451, 0.23668043315410614, 0.09467217326164246, 0.5206969380378723, 0.14200825989246368, 0.2718925178050995, 0.175930455327034, 0.3358672559261322, 0.20791782438755035, 0.21252311766147614, 0.6375693678855896, 0.8690280914306641, 0.12414687126874924, 0.816789448261261, 0.20419736206531525, 0.8536933660507202, 0.8235875368118286, 0.8537024259567261, 0.6194162368774414, 0.20647208392620087, 0.27390623092651367, 0.6847655773162842, 0.9265767335891724, 0.9496675133705139, 0.9199686646461487, 0.9198655486106873, 0.8235829472541809, 0.7741077542304993, 0.36603349447250366, 0.41377702355384827, 0.20688851177692413, 0.007957249879837036, 0.8924270868301392, 0.9210771322250366, 0.22277304530143738, 0.11138652265071869, 0.6683191061019897, 0.7909508347511292, 0.2886621057987213, 0.20206348598003387, 0.14433105289936066, 0.34639453887939453, 0.8924159407615662, 0.7758455276489258, 0.05968042463064194, 0.05968042463064194, 0.05968042463064194, 0.8183234930038452, 0.682155966758728, 0.27286240458488464, 0.19858171045780182, 0.16548475623130798, 0.4302603602409363, 0.19858171045780182, 0.8614937663078308, 0.8924282193183899, 0.8536885976791382, 0.342433363199234, 0.29677557945251465, 0.2282889187335968, 0.13697335124015808, 0.7140294313430786, 0.023033207282423973, 0.2072988748550415, 0.06909961998462677, 0.2220832109451294, 0.1110416054725647, 0.6662496328353882, 0.9266344308853149, 0.11291465908288956, 0.6774879693984985, 0.11291465908288956, 0.10289601236581802, 0.8231680989265442, 0.8536909222602844, 0.9266202449798584, 0.9266584515571594, 0.5885524153709412, 0.37453335523605347, 0.053504765033721924, 0.926622748374939, 0.2090589851140976, 0.13937266170978546, 0.2090589851140976, 0.45296114683151245, 0.14178897440433502, 0.14178897440433502, 0.7089449167251587, 0.7067165970802307, 0.17667914927005768, 0.34232187271118164, 0.048903122544288635, 0.48903125524520874, 0.12225781381130219, 0.13267499208450317, 0.6799593567848206, 0.09950624406337738, 0.09950624406337738, 0.1523744910955429, 0.7618724703788757, 0.7362419366836548, 0.790139377117157, 0.20283733308315277, 0.6085119843482971, 0.6674701571464539, 0.26698803901672363, 0.08899601548910141, 0.919945478439331, 0.12296918779611588, 0.8607843518257141, 0.9265662431716919, 0.24491524696350098, 0.2993408441543579, 0.3809792697429657, 0.08163841813802719, 0.2524546682834625, 0.08415155112743378, 0.08415155112743378, 0.58906090259552, 0.7901331186294556, 0.949631929397583, 0.3423656225204468, 0.21497377753257751, 0.24682173132896423, 0.19108779728412628, 0.3340362310409546, 0.1920708268880844, 0.26722899079322815, 0.20877264440059662, 0.18020214140415192, 0.20594531297683716, 0.4118906259536743, 0.20594531297683716, 0.4800839424133301, 0.21521005034446716, 0.23176467418670654, 0.06621847301721573, 0.520199179649353, 0.1690647304058075, 0.22108465433120728, 0.09103485941886902, 0.8455440402030945, 0.32561683654785156, 0.22913776338100433, 0.19295811653137207, 0.2411976456642151, 0.8183232545852661, 0.18569813668727875, 0.5199548006057739, 0.22283776104450226, 0.07427925616502762, 0.17629514634609222, 0.7051805853843689, 0.8183275461196899, 0.21328352391719818, 0.6398505568504333, 0.8536930084228516, 0.1478949785232544, 0.6408782601356506, 0.049298327416181564, 0.19719330966472626, 0.11810237914323807, 0.7086142897605896, 0.11810237914323807, 0.8183203339576721, 0.6432800889015198, 0.8183165788650513, 0.8536956310272217, 0.7933980822563171, 0.2580782175064087, 0.5161564350128174, 0.18434157967567444, 0.03686831519007683, 0.9266087412834167, 0.8463622331619263, 0.8183190822601318, 0.2887752652168274, 0.39984264969825745, 0.19992132484912872, 0.11106740683317184, 0.8536901473999023, 0.5028485655784607, 0.1311778873205185, 0.21862980723381042, 0.14210937917232513, 0.7740402817726135, 0.3741099536418915, 0.29394352436065674, 0.24049925804138184, 0.09352748841047287, 0.4512535631656647, 0.48885801434516907, 0.07520892471075058, 0.4382495880126953, 0.12360885739326477, 0.19103187322616577, 0.24721771478652954, 0.8924177885055542, 0.4225494861602783, 0.3091825544834137, 0.12367302179336548, 0.13397911190986633, 0.823580265045166, 0.26197004318237305, 0.6985868215560913, 0.43391820788383484, 0.10847955197095871, 0.3905263841152191, 0.08678364008665085, 0.8183181285858154, 0.8536889553070068, 0.3000614047050476, 0.3857932388782501, 0.18218013644218445, 0.12859775125980377, 0.3830912113189697, 0.24900929629802704, 0.11492736637592316, 0.2298547327518463, 0.10630962252616882, 0.21261924505233765, 0.6378577351570129, 0.6431549191474915, 0.17516963183879852, 0.7006785273551941, 0.177142933011055, 0.20244905352592468, 0.35428586602211, 0.25306132435798645, 0.245579794049263, 0.17541414499282837, 0.4560767710208893, 0.14033131301403046, 0.8169451951980591, 0.5560402274131775, 0.3089112341403961, 0.12356449663639069, 0.17432747781276703, 0.6973099112510681, 0.6056152582168579, 0.13458116352558136, 0.10093587636947632, 0.20187175273895264, 0.8183185458183289, 0.8235820531845093, 0.926524817943573, 0.4186062812805176, 0.3289049565792084, 0.179402694106102, 0.059800900518894196, 0.19016361236572266, 0.6655726432800293, 0.19016361236572266, 0.35860151052474976, 0.08437682688236237, 0.40078994631767273, 0.14765945076942444, 0.38130006194114685, 0.3418552279472351, 0.0657413899898529, 0.19722416996955872, 0.841869592666626, 0.09904348105192184, 0.04952174052596092, 0.8536935448646545, 0.9255169034004211, 0.8236848711967468, 0.7902106642723083, 0.6496800184249878, 0.17491385340690613, 0.1249384731054306, 0.07496308535337448, 0.051330357789993286, 0.6672946214675903, 0.15399107336997986, 0.10266071557998657, 0.5354457497596741, 0.2513316869735718, 0.19669435918331146, 0.021854929625988007, 0.7740401029586792, 0.7357240319252014, 0.8235829472541809, 0.8235829472541809, 0.9265801906585693, 0.6432729959487915, 0.369803786277771, 0.5282911062240601, 0.10565822571516037, 0.9265602231025696, 0.30937159061431885, 0.16499818861484528, 0.2062477320432663, 0.30937159061431885, 0.7136258482933044, 0.7444390058517456, 0.07444389909505844, 0.14888779819011688, 0.853691577911377, 0.6432241201400757, 0.8536889553070068, 0.7900895476341248, 0.8536987900733948, 0.07006421685218811, 0.28025686740875244, 0.14012843370437622, 0.4904495179653168, 0.6233474016189575, 0.20778247714042664, 0.8456799983978271, 0.643241822719574, 0.9498148560523987, 0.06864564120769501, 0.5491651296615601, 0.20593692362308502, 0.13729128241539001, 0.6432379484176636, 0.8322514891624451, 0.11889307200908661, 0.8536882400512695, 0.7739402055740356, 0.7689645290374756, 0.29499590396881104, 0.20280969142913818, 0.46093109250068665, 0.01843724399805069, 0.8924216032028198, 0.6401098370552063, 0.11853886395692825, 0.04741554334759712, 0.1896621733903885, 0.2041923999786377, 0.530900239944458, 0.16335391998291016, 0.08167695999145508, 0.5801466703414917, 0.29007333517074585, 0.8022524118423462, 0.06171172484755516, 0.12342344969511032, 0.24305576086044312, 0.7291672825813293, 0.7927476763725281, 0.21330276131629944, 0.6399082541465759, 0.9505339860916138, 0.8183237314224243, 0.8285009264945984, 0.13808348774909973, 0.6190898418426514, 0.6430168151855469, 0.9501389861106873, 0.16564159095287323, 0.19324852526187897, 0.38649705052375793, 0.276069313287735, 0.744138240814209, 0.24804608523845673, 0.7140511274337769, 0.1785127818584442, 0.05950426310300827, 0.9196426868438721, 0.17634961009025574, 0.705398440361023, 0.6394650340080261, 0.7966939210891724, 0.07966938614845276, 0.07966938614845276, 0.9198134541511536, 0.8924233317375183, 0.823585569858551, 0.9198988676071167, 0.03405889868736267, 0.6471191048622131, 0.3065301179885864, 0.8183252811431885, 0.14506873488426208, 0.07253436744213104, 0.725343644618988, 0.07253436744213104, 0.8183141350746155, 0.17629864811897278, 0.7051945924758911, 0.3111075460910797, 0.1333318054676056, 0.1333318054676056, 0.3999954164028168, 0.8235820531845093, 0.9199511408805847, 0.4993302524089813, 0.20805427432060242, 0.055481139570474625, 0.24966512620449066, 0.2333129495382309, 0.36057454347610474, 0.21210268139839172, 0.19089241325855255, 0.8183223605155945, 0.8183199763298035, 0.36623334884643555, 0.5290037393569946, 0.08138518780469894, 0.40018177032470703, 0.3693985641002655, 0.1231328547000885, 0.1231328547000885, 0.13666942715644836, 0.6377906799316406, 0.09111295640468597, 0.13666942715644836, 0.823586642742157, 0.24571871757507324, 0.09828748553991318, 0.5897248983383179, 0.09828748553991318, 0.8235829472541809, 0.9198907613754272, 0.9260060787200928, 0.643202006816864, 0.19565148651599884, 0.13975106179714203, 0.5590042471885681, 0.11180084943771362, 0.7094934582710266, 0.17737336456775665, 0.21353328227996826, 0.20018744468688965, 0.4937957227230072, 0.10676664113998413, 0.37513595819473267, 0.041681770235300064, 0.5418630242347717, 0.32504528760910034, 0.16679956018924713, 0.19673794507980347, 0.31221455335617065, 0.8536878824234009, 0.8093794584274292, 0.12451991438865662, 0.8170397281646729, 0.2115190178155899, 0.26792407035827637, 0.2115190178155899, 0.3102278709411621, 0.154673233628273, 0.3807341158390045, 0.24985675513744354, 0.2141629308462143, 0.7901391386985779, 0.8457424640655518, 0.3389348089694977, 0.26630592346191406, 0.09683851897716522, 0.31472519040107727, 0.7235097289085388, 0.12767818570137024, 0.12767818570137024, 0.4922947883605957, 0.13719689846038818, 0.2905346155166626, 0.08877446502447128, 0.7903888821601868, 0.5678513050079346, 0.10324569791555405, 0.15486854314804077, 0.18067997694015503, 0.889026403427124, 0.09878070652484894, 0.3448053300380707, 0.30539900064468384, 0.19703161716461182, 0.14777371287345886, 0.33174654841423035, 0.1507938802242279, 0.4222228527069092, 0.1055557131767273, 0.30040520429611206, 0.26087820529937744, 0.27668899297714233, 0.15810799598693848, 0.2705369293689728, 0.10145135223865509, 0.1352684646844864, 0.47343963384628296, 0.8136662244796753, 0.06258971244096756, 0.06258971244096756, 0.17527858912944794, 0.7011143565177917, 0.7460696697235107, 0.14921393990516663, 0.07460696995258331, 0.037303484976291656, 0.45390886068344116, 0.03242206200957298, 0.16211029887199402, 0.3566426634788513, 0.30548200011253357, 0.10182733088731766, 0.5091366767883301, 0.10182733088731766, 0.655259907245636, 0.18076135218143463, 0.13557101786136627, 0.04519033804535866, 0.31351494789123535, 0.07837873697280884, 0.5486511588096619, 0.9497189521789551, 0.3824172914028168, 0.3382922410964966, 0.10295850038528442, 0.17650029063224792, 0.8924148082733154, 0.4607379138469696, 0.4252965450286865, 0.0886034443974495, 0.017720689997076988, 0.3155151903629303, 0.6310303807258606, 0.29722756147384644, 0.24318617582321167, 0.45935165882110596, 0.09451479464769363, 0.661603569984436, 0.18902958929538727, 0.09451479464769363, 0.4707033932209015, 0.2907285690307617, 0.2215074896812439, 0.013844218105077744, 0.3597756326198578, 0.3022115230560303, 0.15830127894878387, 0.18708331882953644, 0.5604403614997864, 0.16960695385932922, 0.23966199159622192, 0.02949686162173748, 0.29450488090515137, 0.31291142106056213, 0.12884588539600372, 0.2760983109474182], \"Term\": [\"11\", \"11\", \"2\", \"2\", \"2\", \"2\", \"20\", \"20\", \"2012\", \"3\", \"3\", \"3\", \"3\", \"4\", \"4\", \"4\", \"4\", \"5\", \"5\", \"5\", \"5\", \"7\", \"7\", \"access\", \"access\", \"adjunct\", \"ago\", \"ago\", \"ago\", \"ago\", \"alaskaair\", \"also\", \"also\", \"also\", \"also\", \"amp\", \"amp\", \"amp\", \"amp\", \"anoth\", \"anoth\", \"anoth\", \"anywher\", \"apart\", \"attend\", \"attend\", \"attitud\", \"attitud\", \"attitud\", \"away\", \"away\", \"away\", \"away\", \"back\", \"back\", \"back\", \"back\", \"beyond\", \"beyond\", \"biopsi\", \"biopsi\", \"bleed\", \"bleed\", \"blog\", \"bloodi\", \"bosnerdley\", \"box\", \"box\", \"breastcancersurvivor\", \"breastcancersurvivor\", \"brutal\", \"cancersurvivor\", \"card\", \"caregiv\", \"cbn\", \"certainli\", \"chemo\", \"chemo\", \"chemo\", \"chemo\", \"chirp\", \"commit\", \"compromis\", \"compromis\", \"compromis\", \"consult\", \"could\", \"could\", \"could\", \"could\", \"critic\", \"cure\", \"cure\", \"cure\", \"cure\", \"darrenhay\", \"date\", \"date\", \"day\", \"day\", \"day\", \"day\", \"deduct\", \"demetriusharmon\", \"despair\", \"diagnos\", \"diagnos\", \"diagnos\", \"diagnos\", \"diagnosi\", \"diagnosi\", \"diagnosi\", \"diagnosi\", \"difficult\", \"difficult\", \"difficult\", \"disori\", \"doc\", \"doc\", \"doc\", \"dohertyshannen\", \"dohertyshannen\", \"drag\", \"dysfunct\", \"easier\", \"effect\", \"effect\", \"effect\", \"erectil\", \"ever\", \"ever\", \"ever\", \"ever\", \"exist\", \"exist\", \"exist\", \"fact\", \"fact\", \"famili\", \"famili\", \"famili\", \"famili\", \"feel\", \"feel\", \"feel\", \"feel\", \"financi\", \"financi\", \"florida\", \"flu\", \"flush\", \"flush\", \"follow\", \"follow\", \"follow\", \"forev\", \"fought\", \"fought\", \"fr\", \"friend\", \"friend\", \"friend\", \"friend\", \"fuck\", \"fuck\", \"fuck\", \"fuck\", \"fundrais\", \"genet\", \"get\", \"get\", \"get\", \"get\", \"go\", \"go\", \"go\", \"go\", \"god\", \"god\", \"god\", \"god\", \"good\", \"good\", \"good\", \"good\", \"got\", \"got\", \"got\", \"got\", \"grandson\", \"help\", \"help\", \"help\", \"help\", \"horror\", \"husband\", \"husband\", \"husband\", \"husband\", \"iamandiwil\", \"iamandiwil\", \"iamasurvivor\", \"ibranc\", \"ibranc\", \"identifi\", \"im\", \"im\", \"im\", \"im\", \"immun\", \"immun\", \"immun\", \"independ\", \"india\", \"induc\", \"inflammatori\", \"infus\", \"insur\", \"insur\", \"insur\", \"insur\", \"jame\", \"jaywhyel\", \"jeep\", \"keep\", \"keep\", \"keep\", \"keep\", \"kitchen\", \"know\", \"know\", \"know\", \"know\", \"l\", \"last\", \"last\", \"last\", \"last\", \"left\", \"left\", \"left\", \"life\", \"life\", \"life\", \"life\", \"lifelin\", \"like\", \"like\", \"like\", \"like\", \"limbaugh\", \"list\", \"list\", \"live\", \"live\", \"live\", \"live\", \"lorazepam\", \"lotteri\", \"love\", \"love\", \"love\", \"love\", \"make\", \"make\", \"make\", \"make\", \"man\", \"man\", \"man\", \"market\", \"mass\", \"mass\", \"mastectomi\", \"mastectomi\", \"mastectomi\", \"mastectomi\", \"medic\", \"medic\", \"medic\", \"medic\", \"medicin\", \"menopaus\", \"menopaus\", \"menopaus\", \"mention\", \"mention\", \"metastat\", \"metastat\", \"metastat\", \"metastat\", \"mg\", \"michaelscodub\", \"mommi\", \"month\", \"month\", \"month\", \"month\", \"mri\", \"mri\", \"mri\", \"much\", \"much\", \"much\", \"much\", \"need\", \"need\", \"need\", \"need\", \"neg\", \"neg\", \"neg\", \"nfl\", \"nhe\", \"obamacar\", \"okay\", \"old\", \"old\", \"old\", \"old\", \"oncologist\", \"oncologist\", \"oncologist\", \"oncologist\", \"one\", \"one\", \"one\", \"one\", \"onlin\", \"op\", \"optimist\", \"outcom\", \"outsid\", \"paper\", \"part\", \"part\", \"part\", \"partner\", \"peopl\", \"peopl\", \"peopl\", \"peopl\", \"perform\", \"pink\", \"pink\", \"pink\", \"pocket\", \"polici\", \"powerbal\", \"practic\", \"prais\", \"pre\", \"pre\", \"pre\", \"pre\", \"preexist\", \"preexist\", \"pregnant\", \"premium\", \"prescrib\", \"prevent\", \"prevent\", \"prevent\", \"prevent\", \"price\", \"primari\", \"primari\", \"profit\", \"pult\", \"race\", \"radiat\", \"radiat\", \"radiat\", \"radiat\", \"rash\", \"realli\", \"realli\", \"realli\", \"realli\", \"recent\", \"recent\", \"recent\", \"recent\", \"recoveri\", \"recoveri\", \"recurr\", \"recurr\", \"recurr\", \"reduc\", \"reduc\", \"referr\", \"regardless\", \"regardless\", \"relief\", \"reliev\", \"remind\", \"remind\", \"rep\", \"review\", \"ribbon\", \"right\", \"right\", \"right\", \"right\", \"risk\", \"risk\", \"round\", \"round\", \"round\", \"samheughan\", \"schedul\", \"schedul\", \"screw\", \"self\", \"self\", \"self\", \"servic\", \"shall\", \"shaq\", \"shot\", \"side\", \"side\", \"side\", \"significantli\", \"sister\", \"sister\", \"sister\", \"sister\", \"societi\", \"sod\", \"sod\", \"sorri\", \"sorri\", \"sorri\", \"sorri\", \"spin\", \"st\", \"stage\", \"stage\", \"stage\", \"stage\", \"start\", \"start\", \"start\", \"start\", \"statefarm\", \"statement\", \"stay\", \"stay\", \"stay\", \"still\", \"still\", \"still\", \"still\", \"stop\", \"stop\", \"stop\", \"stop\", \"store\", \"strong\", \"strong\", \"strong\", \"strong\", \"sublim\", \"suggest\", \"suit\", \"supplement\", \"support\", \"support\", \"support\", \"support\", \"suppos\", \"suppos\", \"surgeri\", \"surgeri\", \"surgeri\", \"surgeri\", \"surviv\", \"surviv\", \"surviv\", \"survivor\", \"survivor\", \"survivor\", \"survivor\", \"sweetpea\", \"system\", \"system\", \"tablet\", \"take\", \"take\", \"take\", \"take\", \"tamoxifen\", \"tamoxifen\", \"tamoxifen\", \"tamoxifen\", \"taxol\", \"team\", \"tell\", \"tell\", \"tell\", \"tell\", \"test\", \"test\", \"test\", \"thank\", \"thank\", \"thank\", \"thank\", \"that\", \"think\", \"think\", \"think\", \"think\", \"three\", \"three\", \"time\", \"time\", \"time\", \"time\", \"today\", \"today\", \"today\", \"today\", \"treatment\", \"treatment\", \"treatment\", \"treatment\", \"tri\", \"tri\", \"tri\", \"tri\", \"tripl\", \"tripl\", \"tripl\", \"tumour\", \"tumour\", \"two\", \"two\", \"two\", \"two\", \"u\", \"u\", \"u\", \"u\", \"understand\", \"understand\", \"understand\", \"understand\", \"us\", \"us\", \"us\", \"us\", \"vote\", \"vote\", \"vote\", \"walker\", \"want\", \"want\", \"want\", \"want\", \"wast\", \"week\", \"week\", \"week\", \"week\", \"win\", \"win\", \"wish\", \"wish\", \"wish\", \"word\", \"word\", \"word\", \"word\", \"work\", \"work\", \"work\", \"work\", \"would\", \"would\", \"would\", \"would\", \"year\", \"year\", \"year\", \"year\", \"yr\", \"yr\", \"yr\", \"yr\"]}, \"R\": 30, \"lambda.step\": 0.01, \"plot.opts\": {\"xlab\": \"PC1\", \"ylab\": \"PC2\"}, \"topic.order\": [1, 3, 2, 4]};\n",
       "\n",
       "function LDAvis_load_lib(url, callback){\n",
       "  var s = document.createElement('script');\n",
       "  s.src = url;\n",
       "  s.async = true;\n",
       "  s.onreadystatechange = s.onload = callback;\n",
       "  s.onerror = function(){console.warn(\"failed to load library \" + url);};\n",
       "  document.getElementsByTagName(\"head\")[0].appendChild(s);\n",
       "}\n",
       "\n",
       "if(typeof(LDAvis) !== \"undefined\"){\n",
       "   // already loaded: just create the visualization\n",
       "   !function(LDAvis){\n",
       "       new LDAvis(\"#\" + \"ldavis_el511961406780581262164945621495\", ldavis_el511961406780581262164945621495_data);\n",
       "   }(LDAvis);\n",
       "}else if(typeof define === \"function\" && define.amd){\n",
       "   // require.js is available: use it to load d3/LDAvis\n",
       "   require.config({paths: {d3: \"https://cdnjs.cloudflare.com/ajax/libs/d3/3.5.5/d3.min\"}});\n",
       "   require([\"d3\"], function(d3){\n",
       "      window.d3 = d3;\n",
       "      LDAvis_load_lib(\"https://cdn.rawgit.com/bmabey/pyLDAvis/files/ldavis.v1.0.0.js\", function(){\n",
       "        new LDAvis(\"#\" + \"ldavis_el511961406780581262164945621495\", ldavis_el511961406780581262164945621495_data);\n",
       "      });\n",
       "    });\n",
       "}else{\n",
       "    // require.js not available: dynamically load d3 & LDAvis\n",
       "    LDAvis_load_lib(\"https://cdnjs.cloudflare.com/ajax/libs/d3/3.5.5/d3.min.js\", function(){\n",
       "         LDAvis_load_lib(\"https://cdn.rawgit.com/bmabey/pyLDAvis/files/ldavis.v1.0.0.js\", function(){\n",
       "                 new LDAvis(\"#\" + \"ldavis_el511961406780581262164945621495\", ldavis_el511961406780581262164945621495_data);\n",
       "            })\n",
       "         });\n",
       "}\n",
       "</script>"
      ],
      "text/plain": [
       "PreparedData(topic_coordinates=              x         y  topics  cluster       Freq\n",
       "topic                                                \n",
       "0     -0.041535 -0.006519       1        1  34.745495\n",
       "2     -0.032828 -0.066412       2        1  24.246698\n",
       "1     -0.023147  0.079253       3        1  23.111288\n",
       "3      0.097510 -0.006322       4        1  17.896526, topic_info=     Category        Freq       Term       Total  loglift  logprob\n",
       "8     Default  233.000000   survivor  233.000000  30.0000  30.0000\n",
       "266   Default  271.000000       year  271.000000  29.0000  29.0000\n",
       "199   Default  125.000000      chemo  125.000000  28.0000  28.0000\n",
       "219   Default   60.000000       feel   60.000000  27.0000  27.0000\n",
       "485   Default   29.000000       side   29.000000  26.0000  26.0000\n",
       "37    Default   90.000000        day   90.000000  25.0000  25.0000\n",
       "1000  Default   23.000000     surviv   23.000000  24.0000  24.0000\n",
       "509   Default   74.000000    surgeri   74.000000  23.0000  23.0000\n",
       "1366  Default   84.000000  tamoxifen   84.000000  22.0000  22.0000\n",
       "495   Default   16.000000     system   16.000000  21.0000  21.0000\n",
       "59    Default   54.000000     radiat   54.000000  20.0000  20.0000\n",
       "5     Default   29.000000        tri   29.000000  19.0000  19.0000\n",
       "533   Default   16.000000     recurr   16.000000  18.0000  18.0000\n",
       "44    Default   70.000000       take   70.000000  17.0000  17.0000\n",
       "257   Default   56.000000       week   56.000000  16.0000  16.0000\n",
       "122   Default   43.000000   diagnosi   43.000000  15.0000  15.0000\n",
       "885   Default   28.000000       ever   28.000000  14.0000  14.0000\n",
       "2035  Default   16.000000      immun   16.000000  13.0000  13.0000\n",
       "390   Default   72.000000      stage   72.000000  12.0000  12.0000\n",
       "479   Default   18.000000     effect   18.000000  11.0000  11.0000\n",
       "494   Default   35.000000    support   35.000000  10.0000  10.0000\n",
       "13    Default   40.000000     famili   40.000000   9.0000   9.0000\n",
       "19    Default   91.000000        one   91.000000   8.0000   8.0000\n",
       "1348  Default   37.000000       wish   37.000000   7.0000   7.0000\n",
       "150   Default   72.000000       work   72.000000   6.0000   6.0000\n",
       "1169  Default   30.000000          u   30.000000   5.0000   5.0000\n",
       "405   Default   76.000000       need   76.000000   4.0000   4.0000\n",
       "16    Default   26.000000       left   26.000000   3.0000   3.0000\n",
       "3398  Default   12.000000       vote   12.000000   2.0000   2.0000\n",
       "370   Default   24.000000       stay   24.000000   1.0000   1.0000\n",
       "...       ...         ...        ...         ...      ...      ...\n",
       "531    Topic4    7.121796        pre   14.272621   1.0254  -6.3308\n",
       "44     Topic4   21.739843       take   70.915611   0.5382  -5.2148\n",
       "67     Topic4   12.422021      could   34.642578   0.6950  -5.7745\n",
       "4      Topic4   15.489644      peopl   48.485382   0.5795  -5.5538\n",
       "2155   Topic4    9.108594      sorri   22.500257   0.8163  -6.0848\n",
       "41     Topic4   21.729267       life   88.990387   0.3107  -5.2153\n",
       "1169   Topic4   10.823795          u   30.843197   0.6734  -5.9122\n",
       "467    Topic4   20.120588       help   82.919548   0.3044  -5.2922\n",
       "22     Topic4   12.934296       tell   41.305878   0.5594  -5.7341\n",
       "31     Topic4   24.762899         go  119.747490   0.1445  -5.0846\n",
       "390    Topic4   17.647858      stage   72.096573   0.3132  -5.4234\n",
       "132    Topic4   20.926434          2   95.574921   0.2017  -5.2530\n",
       "216    Topic4   14.750397         yr   54.328472   0.4168  -5.6027\n",
       "70     Topic4   24.182013        get  125.596718   0.0731  -5.1084\n",
       "1366   Topic4   18.363466  tamoxifen   84.048157   0.1995  -5.3836\n",
       "313    Topic4   13.195397       also   50.491158   0.3786  -5.7141\n",
       "37     Topic4   18.008022        day   90.642792   0.1045  -5.4032\n",
       "405    Topic4   15.435608       need   76.055588   0.1258  -5.5573\n",
       "228    Topic4   19.953072  treatment  126.495811  -0.1263  -5.3006\n",
       "206    Topic4   12.371152       make   52.206886   0.2807  -5.7786\n",
       "231    Topic4   13.045352       back   62.524704   0.1534  -5.7255\n",
       "338    Topic4   15.004285       time  101.506554  -0.1912  -5.5856\n",
       "75     Topic4   12.739168      would   69.487755   0.0241  -5.7493\n",
       "322    Topic4   12.069991       want   67.988556  -0.0081  -5.8033\n",
       "222    Topic4   13.238441       like   97.030052  -0.2713  -5.7108\n",
       "2      Topic4   12.790006       know   91.478836  -0.2469  -5.7453\n",
       "156    Topic4    9.674407      right   36.222786   0.4004  -6.0245\n",
       "246    Topic4   11.984326    diagnos   87.608284  -0.2687  -5.8104\n",
       "183    Topic4   11.765895       love   93.314232  -0.3502  -5.8288\n",
       "600    Topic4   11.380819          4   81.040359  -0.2425  -5.8620\n",
       "\n",
       "[347 rows x 6 columns], token_table=      Topic      Freq     Term\n",
       "term                          \n",
       "521       1  0.890285       11\n",
       "521       4  0.074190       11\n",
       "132       1  0.397594        2\n",
       "132       2  0.240649        2\n",
       "132       3  0.146482        2\n",
       "132       4  0.219723        2\n",
       "995       1  0.740448       20\n",
       "995       4  0.185112       20\n",
       "1903      2  0.734541     2012\n",
       "34        1  0.482307        3\n",
       "34        2  0.289384        3\n",
       "34        3  0.082681        3\n",
       "34        4  0.137802        3\n",
       "600       1  0.567618        4\n",
       "600       2  0.172753        4\n",
       "600       3  0.123395        4\n",
       "600       4  0.135735        4\n",
       "601       1  0.288741        5\n",
       "601       2  0.412488        5\n",
       "601       3  0.268117        5\n",
       "601       4  0.041249        5\n",
       "3095      1  0.357342        7\n",
       "3095      4  0.536013        7\n",
       "300       3  0.212678   access\n",
       "300       4  0.638033   access\n",
       "4046      2  0.818319  adjunct\n",
       "197       1  0.426464      ago\n",
       "197       2  0.220110      ago\n",
       "197       3  0.302652      ago\n",
       "197       4  0.041271      ago\n",
       "...     ...       ...      ...\n",
       "3131      1  0.892415     wast\n",
       "257       1  0.460738     week\n",
       "257       2  0.425297     week\n",
       "257       3  0.088603     week\n",
       "257       4  0.017721     week\n",
       "761       1  0.315515      win\n",
       "761       4  0.631030      win\n",
       "1348      1  0.297228     wish\n",
       "1348      2  0.243186     wish\n",
       "1348      3  0.459352     wish\n",
       "1765      1  0.094515     word\n",
       "1765      2  0.661604     word\n",
       "1765      3  0.189030     word\n",
       "1765      4  0.094515     word\n",
       "150       1  0.470703     work\n",
       "150       2  0.290729     work\n",
       "150       3  0.221507     work\n",
       "150       4  0.013844     work\n",
       "75        1  0.359776    would\n",
       "75        2  0.302212    would\n",
       "75        3  0.158301    would\n",
       "75        4  0.187083    would\n",
       "266       1  0.560440     year\n",
       "266       2  0.169607     year\n",
       "266       3  0.239662     year\n",
       "266       4  0.029497     year\n",
       "216       1  0.294505       yr\n",
       "216       2  0.312911       yr\n",
       "216       3  0.128846       yr\n",
       "216       4  0.276098       yr\n",
       "\n",
       "[591 rows x 3 columns], R=30, lambda_step=0.01, plot_opts={'xlab': 'PC1', 'ylab': 'PC2'}, topic_order=[1, 3, 2, 4])"
      ]
     },
     "execution_count": 67,
     "metadata": {},
     "output_type": "execute_result"
    }
   ],
   "source": [
    "# Visualize the topics\n",
    "pyLDAvis.enable_notebook()\n",
    "LDAvis_prepared = pyLDAvis.gensim.prepare(tweets_lda, tweets_corpus, tweets_dictionary)\n",
    "LDAvis_prepared"
   ]
  },
  {
   "cell_type": "code",
   "execution_count": null,
   "metadata": {},
   "outputs": [],
   "source": []
  }
 ],
 "metadata": {
  "kernelspec": {
   "display_name": "Python 3",
   "language": "python",
   "name": "python3"
  },
  "language_info": {
   "codemirror_mode": {
    "name": "ipython",
    "version": 3
   },
   "file_extension": ".py",
   "mimetype": "text/x-python",
   "name": "python",
   "nbconvert_exporter": "python",
   "pygments_lexer": "ipython3",
   "version": "3.7.3"
  }
 },
 "nbformat": 4,
 "nbformat_minor": 2
}
