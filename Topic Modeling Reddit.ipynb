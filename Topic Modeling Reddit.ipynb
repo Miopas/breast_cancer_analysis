{
 "cells": [
  {
   "cell_type": "code",
   "execution_count": 1,
   "metadata": {},
   "outputs": [],
   "source": [
    "# data process\n",
    "import pandas as pd\n",
    "\n",
    "# plot functions\n",
    "import matplotlib\n",
    "import matplotlib.pyplot as plt\n",
    "import matplotlib.gridspec as gridspec\n",
    "\n",
    "# text process\n",
    "import re\n",
    "import nltk\n",
    "from nltk.corpus import stopwords\n",
    "from nltk.stem import *\n",
    "from nltk.tokenize import RegexpTokenizer\n",
    "from sklearn.feature_extraction.text import CountVectorizer\n",
    "\n",
    "# LDA model\n",
    "from gensim.models.ldamodel import LdaModel\n",
    "from gensim.models import CoherenceModel, LdaMulticore\n",
    "from gensim.corpora import Dictionary\n",
    "\n",
    "# visualization LDA model\n",
    "import pyLDAvis.gensim\n",
    "import pickle \n",
    "import pyLDAvis\n",
    "import math"
   ]
  },
  {
   "cell_type": "markdown",
   "metadata": {},
   "source": [
    "### Load Dataset"
   ]
  },
  {
   "cell_type": "code",
   "execution_count": 3,
   "metadata": {},
   "outputs": [],
   "source": [
    "df_reddit = pd.read_csv(\"/Users/yhu245/Documents/GitHub/breast_cancer_analysis/q4_tw_rd/data/data_reddit_processed.csv\")"
   ]
  },
  {
   "cell_type": "code",
   "execution_count": 4,
   "metadata": {},
   "outputs": [
    {
     "data": {
      "text/html": [
       "<div>\n",
       "<style scoped>\n",
       "    .dataframe tbody tr th:only-of-type {\n",
       "        vertical-align: middle;\n",
       "    }\n",
       "\n",
       "    .dataframe tbody tr th {\n",
       "        vertical-align: top;\n",
       "    }\n",
       "\n",
       "    .dataframe thead th {\n",
       "        text-align: right;\n",
       "    }\n",
       "</style>\n",
       "<table border=\"1\" class=\"dataframe\">\n",
       "  <thead>\n",
       "    <tr style=\"text-align: right;\">\n",
       "      <th></th>\n",
       "      <th>user_id</th>\n",
       "      <th>timestamp</th>\n",
       "      <th>text</th>\n",
       "    </tr>\n",
       "  </thead>\n",
       "  <tbody>\n",
       "    <tr>\n",
       "      <th>0</th>\n",
       "      <td>incredally07</td>\n",
       "      <td>1602699352</td>\n",
       "      <td>I just need to complain a little.  I got my la...</td>\n",
       "    </tr>\n",
       "    <tr>\n",
       "      <th>1</th>\n",
       "      <td>cookiebatter123</td>\n",
       "      <td>1602637885</td>\n",
       "      <td>My mum (50) has just been diagnosed with tripl...</td>\n",
       "    </tr>\n",
       "    <tr>\n",
       "      <th>2</th>\n",
       "      <td>wonkishgardener</td>\n",
       "      <td>1602630055</td>\n",
       "      <td>3 days of radiation left (woo hoo!) and sudden...</td>\n",
       "    </tr>\n",
       "    <tr>\n",
       "      <th>3</th>\n",
       "      <td>HonorableMention111</td>\n",
       "      <td>1602628724</td>\n",
       "      <td>I’ve been on chemo since the beginning of June...</td>\n",
       "    </tr>\n",
       "    <tr>\n",
       "      <th>4</th>\n",
       "      <td>Handy_Raccoon323</td>\n",
       "      <td>1602627408</td>\n",
       "      <td>Please excuse the formatting I'm on shitty mob...</td>\n",
       "    </tr>\n",
       "  </tbody>\n",
       "</table>\n",
       "</div>"
      ],
      "text/plain": [
       "               user_id   timestamp  \\\n",
       "0         incredally07  1602699352   \n",
       "1      cookiebatter123  1602637885   \n",
       "2      wonkishgardener  1602630055   \n",
       "3  HonorableMention111  1602628724   \n",
       "4     Handy_Raccoon323  1602627408   \n",
       "\n",
       "                                                text  \n",
       "0  I just need to complain a little.  I got my la...  \n",
       "1  My mum (50) has just been diagnosed with tripl...  \n",
       "2  3 days of radiation left (woo hoo!) and sudden...  \n",
       "3  I’ve been on chemo since the beginning of June...  \n",
       "4  Please excuse the formatting I'm on shitty mob...  "
      ]
     },
     "execution_count": 4,
     "metadata": {},
     "output_type": "execute_result"
    }
   ],
   "source": [
    "df_reddit.head()"
   ]
  },
  {
   "cell_type": "markdown",
   "metadata": {},
   "source": [
    "### Preprocess the Text"
   ]
  },
  {
   "cell_type": "markdown",
   "metadata": {},
   "source": [
    "Here we only consider bags of word presentation of text and could also try Bigrams and Trigrams model."
   ]
  },
  {
   "cell_type": "code",
   "execution_count": 15,
   "metadata": {},
   "outputs": [
    {
     "data": {
      "text/html": [
       "<div>\n",
       "<style scoped>\n",
       "    .dataframe tbody tr th:only-of-type {\n",
       "        vertical-align: middle;\n",
       "    }\n",
       "\n",
       "    .dataframe tbody tr th {\n",
       "        vertical-align: top;\n",
       "    }\n",
       "\n",
       "    .dataframe thead th {\n",
       "        text-align: right;\n",
       "    }\n",
       "</style>\n",
       "<table border=\"1\" class=\"dataframe\">\n",
       "  <thead>\n",
       "    <tr style=\"text-align: right;\">\n",
       "      <th></th>\n",
       "      <th>user_id</th>\n",
       "      <th>timestamp</th>\n",
       "      <th>text</th>\n",
       "      <th>preprocessed_text</th>\n",
       "      <th>tokenized_text</th>\n",
       "    </tr>\n",
       "  </thead>\n",
       "  <tbody>\n",
       "    <tr>\n",
       "      <th>0</th>\n",
       "      <td>incredally07</td>\n",
       "      <td>1602699352</td>\n",
       "      <td>I just need to complain a little.  I got my la...</td>\n",
       "      <td>need complain little. got last tissue expander...</td>\n",
       "      <td>[need, complain, littl, got, last, tissu, expa...</td>\n",
       "    </tr>\n",
       "    <tr>\n",
       "      <th>1</th>\n",
       "      <td>cookiebatter123</td>\n",
       "      <td>1602637885</td>\n",
       "      <td>My mum (50) has just been diagnosed with tripl...</td>\n",
       "      <td>mum (50) diagnosed triple negative cancer. doc...</td>\n",
       "      <td>[mum, 50, diagnos, tripl, neg, doctor, say, ch...</td>\n",
       "    </tr>\n",
       "    <tr>\n",
       "      <th>2</th>\n",
       "      <td>wonkishgardener</td>\n",
       "      <td>1602630055</td>\n",
       "      <td>3 days of radiation left (woo hoo!) and sudden...</td>\n",
       "      <td>3 days radiation left (woo hoo!) suddenly, lik...</td>\n",
       "      <td>[3, day, radiat, left, woo, hoo, suddenli, lik...</td>\n",
       "    </tr>\n",
       "    <tr>\n",
       "      <th>3</th>\n",
       "      <td>HonorableMention111</td>\n",
       "      <td>1602628724</td>\n",
       "      <td>I’ve been on chemo since the beginning of June...</td>\n",
       "      <td>i’ve chemo since beginning june final dose tom...</td>\n",
       "      <td>[chemo, sinc, begin, june, final, dose, tomorr...</td>\n",
       "    </tr>\n",
       "    <tr>\n",
       "      <th>4</th>\n",
       "      <td>Handy_Raccoon323</td>\n",
       "      <td>1602627408</td>\n",
       "      <td>Please excuse the formatting I'm on shitty mob...</td>\n",
       "      <td>please excuse formatting i'm shitty mobile. (m...</td>\n",
       "      <td>[pleas, excus, format, shitti, mobil, hubbi, d...</td>\n",
       "    </tr>\n",
       "  </tbody>\n",
       "</table>\n",
       "</div>"
      ],
      "text/plain": [
       "               user_id   timestamp  \\\n",
       "0         incredally07  1602699352   \n",
       "1      cookiebatter123  1602637885   \n",
       "2      wonkishgardener  1602630055   \n",
       "3  HonorableMention111  1602628724   \n",
       "4     Handy_Raccoon323  1602627408   \n",
       "\n",
       "                                                text  \\\n",
       "0  I just need to complain a little.  I got my la...   \n",
       "1  My mum (50) has just been diagnosed with tripl...   \n",
       "2  3 days of radiation left (woo hoo!) and sudden...   \n",
       "3  I’ve been on chemo since the beginning of June...   \n",
       "4  Please excuse the formatting I'm on shitty mob...   \n",
       "\n",
       "                                   preprocessed_text  \\\n",
       "0  need complain little. got last tissue expander...   \n",
       "1  mum (50) diagnosed triple negative cancer. doc...   \n",
       "2  3 days radiation left (woo hoo!) suddenly, lik...   \n",
       "3  i’ve chemo since beginning june final dose tom...   \n",
       "4  please excuse formatting i'm shitty mobile. (m...   \n",
       "\n",
       "                                      tokenized_text  \n",
       "0  [need, complain, littl, got, last, tissu, expa...  \n",
       "1  [mum, 50, diagnos, tripl, neg, doctor, say, ch...  \n",
       "2  [3, day, radiat, left, woo, hoo, suddenli, lik...  \n",
       "3  [chemo, sinc, begin, june, final, dose, tomorr...  \n",
       "4  [pleas, excus, format, shitti, mobil, hubbi, d...  "
      ]
     },
     "execution_count": 15,
     "metadata": {},
     "output_type": "execute_result"
    }
   ],
   "source": [
    "stemmer = PorterStemmer()\n",
    "def clean_tweets(df=df_reddit, tweet_col='text', date_col='timestamp'):\n",
    "    \n",
    "    df_copy = df.copy()\n",
    "    \n",
    "    # drop rows with empty values\n",
    "    df_copy.dropna(inplace=True)\n",
    "    \n",
    "    # lower the tweets\n",
    "    df_copy['preprocessed_' + tweet_col] = df_copy[tweet_col].str.lower()\n",
    "    \n",
    "    # filter out stop words\n",
    "    en_stop_words = set(stopwords.words('english'))\n",
    "    en_stop_words = en_stop_words | \\\n",
    "                        {\n",
    "                            'breast', 'cancer', 'b', 'breastcancer'                        \n",
    "                        }\n",
    "    url_re = re.compile('http')\n",
    "    df_copy['preprocessed_' + tweet_col] = df_copy['preprocessed_' + tweet_col].apply(lambda row: ' '.join([word for word in row.split() if (not word in en_stop_words) and (not re.search(url_re, word)) ]))\n",
    "    \n",
    "    # tokenize the tweets\n",
    "    #tokenizer = RegexpTokenizer('[a-zA-Z]\\w+\\'?\\w*')\n",
    "    tokenizer = RegexpTokenizer(r\"\\w+\")\n",
    "    df_copy['tokenized_' + tweet_col] = df_copy['preprocessed_' + tweet_col].apply(lambda row: tokenizer.tokenize(row))\n",
    "    \n",
    "    x_re = '^[x][a-zA-Z0-9_]*'\n",
    "    df_copy['tokenized_' + tweet_col] = df_copy['tokenized_' + tweet_col].apply(lambda row: [stemmer.stem(word) for word in row if (not word in en_stop_words) and (not re.match(x_re, word)) ])\n",
    "\n",
    "\n",
    "    \n",
    "    return df_copy\n",
    "  \n",
    "df_reddit_clean = clean_tweets()\n",
    "df_reddit_clean.head()"
   ]
  },
  {
   "cell_type": "markdown",
   "metadata": {},
   "source": [
    "### Train LDA model"
   ]
  },
  {
   "cell_type": "code",
   "execution_count": 9,
   "metadata": {},
   "outputs": [],
   "source": [
    "# the dictionary would create a dictionary and assign an unique id for each word\n",
    "reddit_dictionary = Dictionary(df_reddit_clean.tokenized_text) \n",
    "\n",
    "# build the corpus i.e. vectors with the number of occurence of each word per tweet\n",
    "reddit_corpus = [reddit_dictionary.doc2bow(reddit) for reddit in df_reddit_clean.tokenized_text] # corpus would record the number of occurance of each word per tweet but save as a sparse format to save space"
   ]
  },
  {
   "cell_type": "markdown",
   "metadata": {},
   "source": [
    "Here we tune the number of the topics using all the trainning data. It would be better that we split the dataset into train and test then decide the number of topics based on the coherence score in test data. Based on the coherence score, 3 would be a good choice."
   ]
  },
  {
   "cell_type": "code",
   "execution_count": 11,
   "metadata": {},
   "outputs": [
    {
     "name": "stdout",
     "output_type": "stream",
     "text": [
      "CPU times: user 54 s, sys: 9.69 s, total: 1min 3s\n",
      "Wall time: 1min 40s\n"
     ]
    }
   ],
   "source": [
    "%%time\n",
    "reddit_coherence = []\n",
    "for nb_topics in range(3, 10):\n",
    "    lda = LdaMulticore(reddit_corpus, num_topics = nb_topics, id2word = reddit_dictionary, passes=10)\n",
    "    cohm = CoherenceModel(model=lda, corpus=reddit_corpus, dictionary = reddit_dictionary, coherence='u_mass')\n",
    "    coh = cohm.get_coherence()\n",
    "    reddit_coherence.append(coh)"
   ]
  },
  {
   "cell_type": "code",
   "execution_count": 12,
   "metadata": {},
   "outputs": [
    {
     "data": {
      "text/plain": [
       "Text(0, 0.5, 'Coherance Score')"
      ]
     },
     "execution_count": 12,
     "metadata": {},
     "output_type": "execute_result"
    },
    {
     "data": {
      "image/png": "[encoded data removed]",
      "text/plain": [
       "<Figure size 432x288 with 1 Axes>"
      ]
     },
     "metadata": {
      "needs_background": "light"
     },
     "output_type": "display_data"
    }
   ],
   "source": [
    "plt.figure()\n",
    "plt.plot(range(3, 10), reddit_coherence)\n",
    "plt.xlabel('Number of Topics')\n",
    "plt.ylabel('Coherance Score')"
   ]
  },
  {
   "cell_type": "code",
   "execution_count": 16,
   "metadata": {},
   "outputs": [
    {
     "name": "stdout",
     "output_type": "stream",
     "text": [
      "CPU times: user 20 s, sys: 96.8 ms, total: 20.1 s\n",
      "Wall time: 14.4 s\n"
     ]
    },
    {
     "data": {
      "image/png": "[encoded data removed]",
      "text/plain": [
       "<Figure size 1440x1080 with 3 Axes>"
      ]
     },
     "metadata": {
      "needs_background": "light"
     },
     "output_type": "display_data"
    }
   ],
   "source": [
    "%%time\n",
    "k = 3\n",
    "reddit_lda = LdaModel(reddit_corpus, num_topics = k, id2word = reddit_dictionary, passes=10)\n",
    "def plot_top_words(lda=reddit_lda, nb_topics=k, nb_words=10):\n",
    "    top_words = [[word for word,_ in lda.show_topic(topic_id, topn=50)] for topic_id in range(lda.num_topics)]\n",
    "    top_betas = [[beta for _,beta in lda.show_topic(topic_id, topn=50)] for topic_id in range(lda.num_topics)]\n",
    "\n",
    "    gs  = gridspec.GridSpec(round(math.sqrt(k))+1,round(math.sqrt(k))+1)\n",
    "    gs.update(wspace=0.5, hspace=0.5)\n",
    "    plt.figure(figsize=(20,15))\n",
    "    for i in range(nb_topics):\n",
    "        ax = plt.subplot(gs[i])\n",
    "        plt.barh(range(nb_words), top_betas[i][:nb_words], align='center',color='blue', ecolor='black')\n",
    "        ax.invert_yaxis()\n",
    "        ax.set_yticks(range(nb_words))\n",
    "        ax.set_yticklabels(top_words[i][:nb_words])\n",
    "        plt.title(\"Topic \"+str(i))\n",
    "        \n",
    "  \n",
    "plot_top_words()"
   ]
  },
  {
   "cell_type": "code",
   "execution_count": 19,
   "metadata": {},
   "outputs": [
    {
     "name": "stderr",
     "output_type": "stream",
     "text": [
      "/Users/yhu245/anaconda3/lib/python3.7/site-packages/pyLDAvis/_prepare.py:257: FutureWarning: Sorting because non-concatenation axis is not aligned. A future version\n",
      "of pandas will change to not sort by default.\n",
      "\n",
      "To accept the future behavior, pass 'sort=False'.\n",
      "\n",
      "To retain the current behavior and silence the warning, pass 'sort=True'.\n",
      "\n",
      "  return pd.concat([default_term_info] + list(topic_dfs))\n"
     ]
    },
    {
     "data": {
      "text/html": [
       "\n",
       "<link rel=\"stylesheet\" type=\"text/css\" href=\"https://cdn.rawgit.com/bmabey/pyLDAvis/files/ldavis.v1.0.0.css\">\n",
       "\n",
       "\n",
       "<div id=\"ldavis_el539621404408235478481552047729\"></div>\n",
       "<script type=\"text/javascript\">\n",
       "\n",
       "var ldavis_el539621404408235478481552047729_data = {\"mdsDat\": {\"x\": [-0.05419028080275565, -0.12219263715313664, 0.1763829179558924], \"y\": [-0.08427834664772378, 0.06508345254707769, 0.019194894100646148], \"topics\": [1, 2, 3], \"cluster\": [1, 1, 1], \"Freq\": [43.90605926513672, 40.13494110107422, 15.958998680114746]}, \"tinfo\": {\"Category\": [\"Default\", \"Default\", \"Default\", \"Default\", \"Default\", \"Default\", \"Default\", \"Default\", \"Default\", \"Default\", \"Default\", \"Default\", \"Default\", \"Default\", \"Default\", \"Default\", \"Default\", \"Default\", \"Default\", \"Default\", \"Default\", \"Default\", \"Default\", \"Default\", \"Default\", \"Default\", \"Default\", \"Default\", \"Default\", \"Default\", \"Topic1\", \"Topic1\", \"Topic1\", \"Topic1\", \"Topic1\", \"Topic1\", \"Topic1\", \"Topic1\", \"Topic1\", \"Topic1\", \"Topic1\", \"Topic1\", \"Topic1\", \"Topic1\", \"Topic1\", \"Topic1\", \"Topic1\", \"Topic1\", \"Topic1\", \"Topic1\", \"Topic1\", \"Topic1\", \"Topic1\", \"Topic1\", \"Topic1\", \"Topic1\", \"Topic1\", \"Topic1\", \"Topic1\", \"Topic1\", \"Topic1\", \"Topic1\", \"Topic1\", \"Topic1\", \"Topic1\", \"Topic1\", \"Topic1\", \"Topic1\", \"Topic1\", \"Topic1\", \"Topic1\", \"Topic1\", \"Topic1\", \"Topic1\", \"Topic1\", \"Topic1\", \"Topic1\", \"Topic1\", \"Topic1\", \"Topic1\", \"Topic1\", \"Topic1\", \"Topic1\", \"Topic1\", \"Topic1\", \"Topic1\", \"Topic1\", \"Topic1\", \"Topic1\", \"Topic1\", \"Topic1\", \"Topic1\", \"Topic1\", \"Topic1\", \"Topic1\", \"Topic1\", \"Topic1\", \"Topic1\", \"Topic1\", \"Topic1\", \"Topic1\", \"Topic1\", \"Topic1\", \"Topic1\", \"Topic1\", \"Topic1\", \"Topic1\", \"Topic1\", \"Topic1\", \"Topic2\", \"Topic2\", \"Topic2\", \"Topic2\", \"Topic2\", \"Topic2\", \"Topic2\", \"Topic2\", \"Topic2\", \"Topic2\", \"Topic2\", \"Topic2\", \"Topic2\", \"Topic2\", \"Topic2\", \"Topic2\", \"Topic2\", \"Topic2\", \"Topic2\", \"Topic2\", \"Topic2\", \"Topic2\", \"Topic2\", \"Topic2\", \"Topic2\", \"Topic2\", \"Topic2\", \"Topic2\", \"Topic2\", \"Topic2\", \"Topic2\", \"Topic2\", \"Topic2\", \"Topic2\", \"Topic2\", \"Topic2\", \"Topic2\", \"Topic2\", \"Topic2\", \"Topic2\", \"Topic2\", \"Topic2\", \"Topic2\", \"Topic2\", \"Topic2\", \"Topic2\", \"Topic2\", \"Topic2\", \"Topic2\", \"Topic2\", \"Topic2\", \"Topic2\", \"Topic2\", \"Topic2\", \"Topic2\", \"Topic2\", \"Topic2\", \"Topic2\", \"Topic2\", \"Topic2\", \"Topic2\", \"Topic2\", \"Topic2\", \"Topic2\", \"Topic2\", \"Topic2\", \"Topic2\", \"Topic2\", \"Topic2\", \"Topic2\", \"Topic2\", \"Topic2\", \"Topic2\", \"Topic2\", \"Topic2\", \"Topic2\", \"Topic2\", \"Topic2\", \"Topic2\", \"Topic2\", \"Topic3\", \"Topic3\", \"Topic3\", \"Topic3\", \"Topic3\", \"Topic3\", \"Topic3\", \"Topic3\", \"Topic3\", \"Topic3\", \"Topic3\", \"Topic3\", \"Topic3\", \"Topic3\", \"Topic3\", \"Topic3\", \"Topic3\", \"Topic3\", \"Topic3\", \"Topic3\", \"Topic3\", \"Topic3\", \"Topic3\", \"Topic3\", \"Topic3\", \"Topic3\", \"Topic3\", \"Topic3\", \"Topic3\", \"Topic3\", \"Topic3\", \"Topic3\", \"Topic3\", \"Topic3\", \"Topic3\", \"Topic3\", \"Topic3\", \"Topic3\", \"Topic3\", \"Topic3\", \"Topic3\", \"Topic3\", \"Topic3\", \"Topic3\", \"Topic3\", \"Topic3\", \"Topic3\", \"Topic3\", \"Topic3\", \"Topic3\", \"Topic3\", \"Topic3\", \"Topic3\", \"Topic3\", \"Topic3\", \"Topic3\", \"Topic3\", \"Topic3\", \"Topic3\", \"Topic3\", \"Topic3\", \"Topic3\", \"Topic3\", \"Topic3\", \"Topic3\", \"Topic3\", \"Topic3\", \"Topic3\", \"Topic3\", \"Topic3\"], \"Freq\": [1027.0, 427.0, 318.0, 854.0, 664.0, 297.0, 372.0, 865.0, 208.0, 806.0, 552.0, 592.0, 277.0, 353.0, 573.0, 475.0, 539.0, 394.0, 153.0, 615.0, 872.0, 268.0, 325.0, 293.0, 598.0, 139.0, 192.0, 793.0, 242.0, 266.0, 292.314697265625, 108.3105697631836, 86.01289367675781, 76.42684936523438, 77.15131378173828, 237.906005859375, 63.80178451538086, 390.42755126953125, 99.46737670898438, 53.69978713989258, 62.39920425415039, 41.16889953613281, 40.119625091552734, 41.04315948486328, 38.69189453125, 46.801612854003906, 43.126216888427734, 29.967710494995117, 79.1513442993164, 26.89646339416504, 32.93584060668945, 165.22402954101562, 28.406347274780273, 27.128963470458984, 37.66716384887695, 835.9039306640625, 24.624032974243164, 24.853322982788086, 28.838699340820312, 23.601335525512695, 94.74882507324219, 173.3301544189453, 118.81365966796875, 174.31959533691406, 543.345947265625, 510.5646667480469, 150.7476043701172, 77.88704681396484, 243.47352600097656, 72.09002685546875, 535.2608032226562, 78.74541473388672, 107.94993591308594, 181.1891326904297, 313.609130859375, 470.1714172363281, 112.58065032958984, 448.4338073730469, 337.8702392578125, 365.9611511230469, 465.2244873046875, 324.0040283203125, 300.4203186035156, 418.5896911621094, 230.35818481445312, 206.98663330078125, 184.7081756591797, 602.8159790039062, 273.26544189453125, 355.1556091308594, 383.8346252441406, 694.616455078125, 499.9861145019531, 582.8374633789062, 635.0977783203125, 548.537109375, 444.6463623046875, 396.843505859375, 298.8871765136719, 408.0888977050781, 506.8650817871094, 383.9862365722656, 426.6070861816406, 361.6886901855469, 389.3726806640625, 405.4585876464844, 401.0368347167969, 366.26739501953125, 351.7751770019531, 185.52001953125, 143.6470947265625, 98.9942626953125, 350.721923828125, 82.42178344726562, 67.05513000488281, 125.23748779296875, 68.9738540649414, 69.62207794189453, 144.02027893066406, 49.605499267578125, 46.48601531982422, 46.31001663208008, 50.330352783203125, 159.09449768066406, 46.44985580444336, 41.96550750732422, 41.154239654541016, 47.434173583984375, 40.67411422729492, 37.667945861816406, 36.23693084716797, 41.074462890625, 41.07445526123047, 41.074398040771484, 44.27040481567383, 34.16356658935547, 101.17855834960938, 43.43348693847656, 31.262332916259766, 996.9048461914062, 641.0360107421875, 116.41215515136719, 66.99055480957031, 63.24968719482422, 510.6529235839844, 148.96119689941406, 61.26290512084961, 70.80919647216797, 433.58111572265625, 131.5640411376953, 60.02717208862305, 126.97007751464844, 144.6660919189453, 669.510009765625, 471.4833984375, 275.7641906738281, 136.3180694580078, 184.33375549316406, 295.4732666015625, 364.1084899902344, 561.2418823242188, 210.48324584960938, 241.4351806640625, 219.48008728027344, 722.238037109375, 749.728515625, 241.39833068847656, 304.30657958984375, 243.08045959472656, 725.7650146484375, 698.3796997070312, 393.59808349609375, 343.510986328125, 479.275390625, 408.32110595703125, 556.6766967773438, 598.3917236328125, 329.630859375, 389.791748046875, 411.96087646484375, 353.1651916503906, 466.2832946777344, 426.3204650878906, 417.2614440917969, 356.65728759765625, 328.2109375, 338.2215270996094, 340.4014587402344, 329.6488952636719, 87.20606231689453, 60.22535705566406, 57.227508544921875, 65.10418701171875, 53.60919952392578, 48.794315338134766, 421.5619201660156, 49.22799301147461, 43.39741516113281, 33.641517639160156, 312.9367980957031, 33.24465560913086, 32.37713623046875, 31.295801162719727, 204.1675262451172, 37.3599739074707, 27.562143325805664, 32.260738372802734, 24.808164596557617, 24.251070022583008, 26.73138427734375, 24.008556365966797, 23.216115951538086, 21.567501068115234, 26.0227108001709, 21.204065322875977, 23.28835105895996, 19.438329696655273, 19.04676628112793, 18.839229583740234, 22.117229461669922, 143.6853790283203, 41.95209884643555, 73.54191589355469, 29.49628448486328, 123.87582397460938, 36.57844924926758, 244.4926300048828, 58.5163459777832, 68.9703598022461, 31.829954147338867, 245.63816833496094, 189.47027587890625, 53.81730270385742, 60.63702392578125, 147.82138061523438, 109.84381866455078, 126.39344787597656, 152.7012939453125, 287.9260559082031, 127.98222351074219, 262.738037109375, 110.82291412353516, 138.2723388671875, 125.2012710571289, 115.83721160888672, 84.253662109375, 92.95877838134766, 149.84266662597656, 158.5509490966797, 86.72178649902344, 121.67483520507812, 138.8207244873047, 148.98326110839844, 100.67640686035156, 100.98690032958984, 131.25942993164062, 127.58084106445312, 106.92243194580078, 104.05441284179688], \"Term\": [\"lump\", \"http\", \"com\", \"chemo\", \"ultrasound\", \"studi\", \"amp\", \"help\", \"www\", \"take\", \"mammogram\", \"treatment\", \"research\", \"notic\", \"surgeri\", \"nippl\", \"mastectomi\", \"radiat\", \"survey\", \"stage\", \"pain\", \"women\", \"support\", \"oncologist\", \"left\", \"link\", \"univers\", \"right\", \"inform\", \"pleas\", \"oncologist\", \"tamoxifen\", \"ct\", \"pr\", \"dci\", \"lumpectomi\", \"idc\", \"radiat\", \"session\", \"pet\", \"taxol\", \"pelvi\", \"headphon\", \"plastic\", \"recurr\", \"herceptin\", \"nausea\", \"score\", \"tumour\", \"oncotyp\", \"port\", \"reconstruct\", \"mm\", \"hip\", \"radiotherapi\", \"chemo\", \"03\", \"feet\", \"prognosi\", \"wellbutrin\", \"er\", \"bone\", \"carcinoma\", \"doubl\", \"surgeri\", \"mastectomi\", \"grade\", \"tripl\", \"scan\", \"surgic\", \"stage\", \"ductal\", \"her2\", \"neg\", \"posit\", \"treatment\", \"invas\", \"mom\", \"tumor\", \"node\", \"start\", \"lymph\", \"4\", \"diagnos\", \"remov\", \"surgeon\", \"spread\", \"week\", \"1\", \"3\", \"2\", \"know\", \"want\", \"go\", \"get\", \"year\", \"would\", \"back\", \"thing\", \"one\", \"like\", \"thank\", \"time\", \"anyon\", \"help\", \"feel\", \"doctor\", \"month\", \"day\", \"cyst\", \"swollen\", \"discharg\", \"notic\", \"tender\", \"gp\", \"red\", \"bump\", \"itchi\", \"dens\", \"indent\", \"lumpi\", \"gyn\", \"areola\", \"questionnair\", \"grown\", \"itch\", \"pea\", \"dimpl\", \"press\", \"paranoid\", \"fibrocyst\", \"domystudi\", \"lang\", \"841983\", \"grandma\", \"tech\", \"fibroadenoma\", \"index\", \"visibl\", \"lump\", \"ultrasound\", \"touch\", \"sore\", \"grandmoth\", \"mammogram\", \"period\", \"rash\", \"chester\", \"nippl\", \"exam\", \"huge\", \"boob\", \"spot\", \"pain\", \"left\", \"breast\", \"freak\", \"armpit\", \"appoint\", \"went\", \"right\", \"hurt\", \"felt\", \"symptom\", \"doctor\", \"feel\", \"tissu\", \"worri\", \"check\", \"get\", \"like\", \"could\", \"ago\", \"month\", \"said\", \"go\", \"know\", \"found\", \"look\", \"day\", \"told\", \"year\", \"time\", \"week\", \"back\", \"biopsi\", \"also\", \"would\", \"one\", \"nbsp\", \"ginsenosid\", \"rh2\", \"gt\", \"veget\", \"fruit\", \"http\", \"particip\", \"capsul\", \"ingredi\", \"com\", \"jinx\", \"donat\", \"youtu\", \"www\", \"video\", \"app\", \"page\", \"jfe\", \"cincinnati\", \"gift\", \"project\", \"qualtric\", \"edu\", \"interview\", \"appl\", \"goal\", \"song\", \"serv\", \"fundrais\", \"cook\", \"survey\", \"function\", \"lt\", \"servic\", \"link\", \"blog\", \"studi\", \"product\", \"creat\", \"student\", \"amp\", \"research\", \"psycholog\", \"survivor\", \"women\", \"univers\", \"inform\", \"support\", \"help\", \"pleas\", \"take\", \"complet\", \"peopl\", \"use\", \"life\", \"patient\", \"current\", \"thank\", \"time\", \"risk\", \"treatment\", \"would\", \"like\", \"part\", \"work\", \"year\", \"know\", \"need\", \"diagnos\"], \"Total\": [1027.0, 427.0, 318.0, 854.0, 664.0, 297.0, 372.0, 865.0, 208.0, 806.0, 552.0, 592.0, 277.0, 353.0, 573.0, 475.0, 539.0, 394.0, 153.0, 615.0, 872.0, 268.0, 325.0, 293.0, 598.0, 139.0, 192.0, 793.0, 242.0, 266.0, 293.0634460449219, 108.8953857421875, 86.59576416015625, 76.9936752319336, 77.74103546142578, 239.87335205078125, 64.36799621582031, 394.180419921875, 100.44458770751953, 54.27642059326172, 63.2264518737793, 41.725006103515625, 40.68904113769531, 41.64236831665039, 39.27811813354492, 47.538578033447266, 43.89596939086914, 30.53583526611328, 80.66629028320312, 27.453298568725586, 33.622798919677734, 168.6783905029297, 29.012683868408203, 27.716175079345703, 38.489131927490234, 854.21044921875, 25.18449592590332, 25.423513412475586, 29.51039695739746, 24.15637969970703, 97.54816436767578, 179.6867218017578, 122.73590087890625, 181.31381225585938, 573.4071044921875, 539.7810668945312, 158.42147827148438, 80.87743377685547, 259.4221496582031, 74.86822509765625, 615.6468505859375, 82.50273895263672, 115.0721664428711, 199.7937469482422, 368.8865966796875, 592.7852172851562, 123.99727630615234, 585.9441528320312, 428.39813232421875, 485.49139404296875, 642.825927734375, 426.21124267578125, 399.45440673828125, 620.4658203125, 297.0494689941406, 260.66314697265625, 227.22390747070312, 1027.4322509765625, 385.2117004394531, 553.4674682617188, 618.0379028320312, 1420.5889892578125, 912.9674682617188, 1224.53662109375, 1415.9560546875, 1146.079833984375, 923.8685913085938, 765.7020874023438, 466.49688720703125, 820.871337890625, 1354.22802734375, 772.4075317382812, 1011.478515625, 686.2310791015625, 865.97216796875, 1202.1041259765625, 1146.81005859375, 864.654052734375, 808.0401611328125, 186.30064392089844, 144.3909454345703, 99.68636322021484, 353.53515625, 83.10623168945312, 67.69046783447266, 126.5932388305664, 69.73434448242188, 70.39457702636719, 145.6460418701172, 50.2623405456543, 47.12016296386719, 46.95671844482422, 51.03852844238281, 161.4633331298828, 47.15499496459961, 42.61543655395508, 41.79413604736328, 48.17493438720703, 41.38116455078125, 38.326229095458984, 36.876243591308594, 41.8339958190918, 41.83399963378906, 41.83399200439453, 45.08988952636719, 34.800811767578125, 103.06982421875, 44.291133880615234, 31.905488967895508, 1027.830078125, 664.9951171875, 118.9014663696289, 68.38401794433594, 64.71978759765625, 552.3240356445312, 156.85765075683594, 62.95685577392578, 73.19764709472656, 475.04278564453125, 140.6990966796875, 61.93113708496094, 137.5704345703125, 161.624267578125, 872.0205688476562, 598.1151123046875, 333.9516296386719, 153.17413330078125, 214.21560668945312, 362.5165710449219, 474.4876403808594, 793.5419921875, 256.112060546875, 301.72430419921875, 271.3341369628906, 1146.81005859375, 1202.1041259765625, 309.3471374511719, 417.50946044921875, 324.8820495605469, 1415.9560546875, 1354.22802734375, 629.2779541015625, 528.7645874023438, 864.654052734375, 728.7044067382812, 1224.53662109375, 1420.5889892578125, 546.948974609375, 723.473876953125, 808.0401611328125, 639.1280517578125, 1146.079833984375, 1011.478515625, 1027.4322509765625, 765.7020874023438, 642.5806274414062, 722.5062255859375, 923.8685913085938, 820.871337890625, 87.84252166748047, 60.86122131347656, 57.86330795288086, 65.86636352539062, 54.25747299194336, 49.45747756958008, 427.2943115234375, 49.90678024291992, 44.0750732421875, 34.278438568115234, 318.9083251953125, 33.879920959472656, 33.033573150634766, 31.9433650970459, 208.73092651367188, 38.24344253540039, 28.227806091308594, 33.05947494506836, 25.44395637512207, 24.88603973388672, 27.442007064819336, 24.648590087890625, 23.852218627929688, 22.20652198791504, 26.8164119720459, 21.867748260498047, 24.0383358001709, 20.087602615356445, 19.686786651611328, 19.47477149963379, 22.889738082885742, 153.2811737060547, 43.84358596801758, 77.78863525390625, 30.783031463623047, 139.4605712890625, 38.79546356201172, 297.0067443847656, 65.89100646972656, 79.29109191894531, 33.678550720214844, 372.10137939453125, 277.8646240234375, 63.23258972167969, 77.03307342529297, 268.1920471191406, 192.01324462890625, 242.54248046875, 325.6266174316406, 865.97216796875, 266.170166015625, 806.0026245117188, 249.14303588867188, 376.8341064453125, 341.1618347167969, 335.05560302734375, 181.65203857421875, 233.32107543945312, 772.4075317382812, 1011.478515625, 208.40914916992188, 592.7852172851562, 923.8685913085938, 1354.22802734375, 360.858642578125, 375.5655212402344, 1146.079833984375, 1420.5889892578125, 626.3340454101562, 620.4658203125], \"loglift\": [30.0, 29.0, 28.0, 27.0, 26.0, 25.0, 24.0, 23.0, 22.0, 21.0, 20.0, 19.0, 18.0, 17.0, 16.0, 15.0, 14.0, 13.0, 12.0, 11.0, 10.0, 9.0, 8.0, 7.0, 6.0, 5.0, 4.0, 3.0, 2.0, 1.0, 0.8205999732017517, 0.8177000284194946, 0.8163999915122986, 0.8156999945640564, 0.815500020980835, 0.8148999810218811, 0.814300000667572, 0.8136000037193298, 0.8133000135421753, 0.8123999834060669, 0.8098999857902527, 0.8097000122070312, 0.8090000152587891, 0.8086000084877014, 0.8080999851226807, 0.8075000047683716, 0.805400013923645, 0.8043000102043152, 0.8041999936103821, 0.8026000261306763, 0.8025000095367432, 0.8023999929428101, 0.8019999861717224, 0.8016999959945679, 0.8015000224113464, 0.8015000224113464, 0.800599992275238, 0.8004000186920166, 0.8001000285148621, 0.7998999953269958, 0.7940000295639038, 0.7871000170707703, 0.7906000018119812, 0.7838000059127808, 0.7692999839782715, 0.7674999833106995, 0.7735000252723694, 0.7853999733924866, 0.7597000002861023, 0.7853000164031982, 0.6832000017166138, 0.7764999866485596, 0.7591999769210815, 0.7253999710083008, 0.6607999801635742, 0.5914000272750854, 0.7264999747276306, 0.5557000041007996, 0.5856999754905701, 0.5404999852180481, 0.4997999966144562, 0.5489000082015991, 0.5382000207901001, 0.429500013589859, 0.5688999891281128, 0.5924999713897705, 0.6159999966621399, 0.289900004863739, 0.4797999858856201, 0.37950000166893005, 0.3467999994754791, 0.10769999772310257, 0.22100000083446503, 0.08070000261068344, 0.021299999207258224, 0.08630000054836273, 0.09179999679327011, 0.16590000689029694, 0.37790000438690186, 0.1242000013589859, -0.15960000455379486, 0.1242000013589859, -0.04019999876618385, 0.1826999932527542, 0.023800000548362732, -0.263700008392334, -0.22759999334812164, -0.03579999879002571, -0.008500000461935997, 0.9086999893188477, 0.907800018787384, 0.906000018119812, 0.9049000144004822, 0.904699981212616, 0.9035000205039978, 0.9021999835968018, 0.9020000100135803, 0.9018999934196472, 0.9017000198364258, 0.8998000025749207, 0.899399995803833, 0.8991000056266785, 0.8989999890327454, 0.8981000185012817, 0.8978999853134155, 0.897599995136261, 0.8974999785423279, 0.8974000215530396, 0.8956999778747559, 0.8956000208854675, 0.8953999876976013, 0.894599974155426, 0.894599974155426, 0.894599974155426, 0.894599974155426, 0.8944000005722046, 0.8944000005722046, 0.8934000134468079, 0.8925999999046326, 0.8823999762535095, 0.8762000203132629, 0.8917999863624573, 0.892300009727478, 0.8899000287055969, 0.8345000147819519, 0.861299991607666, 0.8855999708175659, 0.8797000050544739, 0.8216000199317932, 0.84579998254776, 0.8816999793052673, 0.8327000141143799, 0.8021000027656555, 0.6486999988555908, 0.675000011920929, 0.7214999794960022, 0.7962999939918518, 0.7627000212669373, 0.7084000110626221, 0.6481000185012817, 0.5666000247001648, 0.71670001745224, 0.6899999976158142, 0.7008000016212463, 0.4505000114440918, 0.4408000111579895, 0.664900004863739, 0.5967000126838684, 0.6229000091552734, 0.24459999799728394, 0.2506999969482422, 0.44369998574256897, 0.48159998655319214, 0.3228999972343445, 0.3337000012397766, 0.12460000067949295, 0.04830000177025795, 0.4065000116825104, 0.2944999933242798, 0.23919999599456787, 0.3197999894618988, 0.01360000018030405, 0.048900000751018524, 0.011800000444054604, 0.14890000224113464, 0.2410999983549118, 0.15389999747276306, -0.08550000190734863, 0.0006000000284984708, 1.8279000520706177, 1.8245999813079834, 1.8241000175476074, 1.8235000371932983, 1.823099970817566, 1.8215999603271484, 1.8215999603271484, 1.8214999437332153, 1.819700002670288, 1.8164000511169434, 1.8162000179290771, 1.8162000179290771, 1.8150999546051025, 1.8147000074386597, 1.812999963760376, 1.8118000030517578, 1.8113000392913818, 1.8107000589370728, 1.8098000288009644, 1.8092999458312988, 1.808899998664856, 1.8087999820709229, 1.8080999851226807, 1.805899977684021, 1.8050999641418457, 1.8042999505996704, 1.8035000562667847, 1.802299976348877, 1.8020999431610107, 1.8020000457763672, 1.8007999658584595, 1.7704999446868896, 1.7910000085830688, 1.7790000438690186, 1.7924000024795532, 1.716599941253662, 1.7762999534606934, 1.6405999660491943, 1.7165000438690186, 1.6957000494003296, 1.7786999940872192, 1.419800043106079, 1.4522000551223755, 1.6739000082015991, 1.5958000421524048, 1.239400029182434, 1.2766000032424927, 1.18340003490448, 1.0779000520706177, 0.734000027179718, 1.1029000282287598, 0.7142000198364258, 1.0250999927520752, 0.8325999975204468, 0.8327000141143799, 0.7730000019073486, 1.0669000148773193, 0.914900004863739, 0.19519999623298645, -0.017899999395012856, 0.958299994468689, 0.2517000138759613, -0.06019999831914902, -0.3720000088214874, 0.5586000084877014, 0.5217000246047974, -0.33180001378059387, -0.5748999714851379, 0.0674000009894371, 0.04960000142455101], \"logprob\": [30.0, 29.0, 28.0, 27.0, 26.0, 25.0, 24.0, 23.0, 22.0, 21.0, 20.0, 19.0, 18.0, 17.0, 16.0, 15.0, 14.0, 13.0, 12.0, 11.0, 10.0, 9.0, 8.0, 7.0, 6.0, 5.0, 4.0, 3.0, 2.0, 1.0, -5.619200229644775, -6.611999988555908, -6.84250020980835, -6.960700035095215, -6.951300144195557, -5.825099945068359, -7.141200065612793, -5.329800128936768, -6.697199821472168, -7.313600063323975, -7.16349983215332, -7.5792999267578125, -7.605199813842773, -7.582399845123291, -7.64139986038208, -7.451099872589111, -7.532899856567383, -7.896900177001953, -6.9257001876831055, -8.005000114440918, -7.802499771118164, -6.189700126647949, -7.950399875640869, -7.996399879455566, -7.6682000160217285, -4.56850004196167, -8.093299865722656, -8.083999633789062, -7.935299873352051, -8.135700225830078, -6.745800018310547, -6.1417999267578125, -6.519499778747559, -6.136099815368652, -4.999300003051758, -5.061500072479248, -6.281400203704834, -6.941800117492676, -5.802000045776367, -7.019100189208984, -5.0142998695373535, -6.930799961090088, -6.6153998374938965, -6.097499847412109, -5.548900127410889, -5.143899917602539, -6.573400020599365, -5.191299915313721, -5.474400043487549, -5.394499778747559, -5.1545000076293945, -5.516300201416016, -5.591800212860107, -5.2600998878479, -5.857399940490723, -5.964399814605713, -6.078199863433838, -4.895400047302246, -5.686600208282471, -5.424499988555908, -5.346799850463867, -4.753699779510498, -5.082399845123291, -4.929100036621094, -4.843200206756592, -4.989799976348877, -5.199699878692627, -5.313499927520752, -5.5970001220703125, -5.2855000495910645, -5.06879997253418, -5.346399784088135, -5.241199970245361, -5.406199932098389, -5.332499980926514, -5.291999816894531, -5.302999973297119, -5.393700122833252, -5.434000015258789, -5.984099864959717, -6.2399001121521, -6.612199783325195, -5.3471999168396, -6.795400142669678, -7.001699924468994, -6.376999855041504, -6.973499774932861, -6.964099884033203, -6.237299919128418, -7.303100109100342, -7.368100166320801, -7.3719000816345215, -7.288599967956543, -6.137700080871582, -7.368800163269043, -7.470399856567383, -7.4899001121521, -7.347899913787842, -7.5015997886657715, -7.578400135040283, -7.617099761962891, -7.491799831390381, -7.491799831390381, -7.491799831390381, -7.416900157928467, -7.67609977722168, -6.5903000831604, -7.435999870300293, -7.764800071716309, -4.302599906921387, -4.744100093841553, -6.450099945068359, -7.002699851989746, -7.060100078582764, -4.971499919891357, -6.203499794006348, -7.0920000076293945, -6.947199821472168, -5.1350998878479, -6.327700138092041, -7.112400054931641, -6.36329984664917, -6.232800006866455, -4.700699806213379, -5.051300048828125, -5.587699890136719, -6.292200088500977, -5.990499973297119, -5.518599987030029, -5.309800148010254, -4.877099990844727, -5.857800006866455, -5.720600128173828, -5.815999984741211, -4.624899864196777, -4.587500095367432, -5.720799922943115, -5.489200115203857, -5.713799953460693, -4.619999885559082, -4.6585001945495605, -5.231900215148926, -5.368000030517578, -5.034900188446045, -5.195199966430664, -4.885200023651123, -4.813000202178955, -5.409200191497803, -5.241600036621094, -5.186299800872803, -5.3403000831604, -5.062399864196777, -5.1519999504089355, -5.173500061035156, -5.330399990081787, -5.413599967956543, -5.383500099182129, -5.377099990844727, -5.409200191497803, -5.816699981689453, -6.1869001388549805, -6.23799991607666, -6.109000205993652, -6.303299903869629, -6.39739990234375, -4.241000175476074, -6.388500213623047, -6.514599800109863, -6.769199848175049, -4.539000034332275, -6.781099796295166, -6.807499885559082, -6.8414998054504395, -4.966000080108643, -6.664400100708008, -6.968500137329102, -6.811100006103516, -7.073800086975098, -7.096499919891357, -6.999199867248535, -7.106599807739258, -7.140100002288818, -7.213799953460693, -7.026000022888184, -7.230800151824951, -7.13700008392334, -7.317699909210205, -7.338099956512451, -7.348999977111816, -7.188600063323975, -5.317399978637695, -6.548500061035156, -5.987100124359131, -6.900700092315674, -5.465700149536133, -6.685500144958496, -4.785799980163574, -6.215700149536133, -6.051300048828125, -6.8246002197265625, -4.781099796295166, -5.040800094604492, -6.2993998527526855, -6.180099964141846, -5.289000034332275, -5.585899829864502, -5.4456000328063965, -5.256499767303467, -4.622300148010254, -5.43310022354126, -4.713799953460693, -5.577099800109863, -5.355800151824951, -5.455100059509277, -5.532800197601318, -5.851200103759766, -5.752799987792969, -5.275400161743164, -5.218900203704834, -5.822299957275391, -5.48360013961792, -5.351799964904785, -5.281199932098389, -5.673099994659424, -5.670000076293945, -5.407800197601318, -5.436200141906738, -5.6128997802734375, -5.640100002288818]}, \"token.table\": {\"Topic\": [1, 1, 2, 3, 1, 2, 3, 1, 2, 3, 1, 2, 3, 2, 1, 2, 3, 1, 2, 3, 1, 2, 3, 1, 2, 3, 3, 3, 1, 2, 3, 2, 1, 2, 1, 2, 3, 1, 2, 1, 3, 1, 2, 3, 1, 2, 3, 1, 2, 3, 2, 3, 1, 3, 1, 2, 3, 1, 3, 2, 3, 3, 1, 2, 3, 1, 2, 3, 3, 1, 2, 3, 1, 2, 3, 1, 1, 2, 3, 2, 1, 2, 3, 1, 1, 2, 3, 1, 2, 3, 2, 2, 1, 2, 3, 2, 3, 1, 2, 3, 1, 3, 3, 1, 2, 1, 2, 3, 1, 2, 3, 1, 1, 2, 1, 2, 2, 1, 2, 3, 1, 2, 3, 1, 3, 3, 1, 2, 3, 3, 3, 1, 2, 3, 3, 2, 1, 2, 3, 2, 1, 2, 2, 3, 2, 1, 1, 2, 3, 1, 3, 1, 1, 1, 2, 3, 1, 2, 3, 1, 2, 3, 1, 2, 2, 1, 2, 3, 3, 3, 1, 2, 3, 2, 2, 3, 3, 1, 2, 3, 2, 1, 2, 1, 2, 3, 1, 2, 3, 1, 2, 3, 1, 2, 3, 1, 2, 3, 1, 2, 1, 2, 2, 1, 2, 1, 2, 3, 1, 2, 3, 1, 1, 2, 3, 1, 2, 3, 1, 3, 1, 2, 3, 1, 2, 3, 1, 2, 1, 2, 1, 2, 1, 1, 1, 2, 3, 3, 1, 2, 3, 2, 1, 2, 3, 3, 1, 2, 3, 2, 1, 1, 2, 3, 1, 2, 3, 1, 1, 1, 2, 3, 1, 1, 2, 3, 1, 2, 1, 3, 1, 3, 2, 3, 3, 2, 3, 1, 3, 1, 3, 1, 2, 1, 3, 1, 1, 2, 1, 2, 3, 1, 2, 3, 3, 1, 2, 3, 1, 2, 3, 1, 2, 3, 1, 2, 1, 3, 1, 3, 1, 3, 3, 1, 2, 1, 2, 1, 2, 3, 1, 2, 3, 1, 2, 3, 1, 2, 3, 1, 2, 3, 1, 2, 3, 1, 2, 1, 2, 3, 1, 3, 2, 3, 1, 2, 3, 2, 1, 2, 3, 1, 2, 3, 1, 1, 3, 2, 2, 1, 2, 3, 1, 2, 3, 1, 2, 3, 1, 2, 3, 1, 2, 3, 1, 2, 3, 1, 2, 3, 1, 3, 1, 2, 3, 1, 2, 3, 1, 2, 2, 3, 1, 2, 3, 3, 1, 3, 2, 1, 2, 3, 1, 2, 3, 1, 1, 2, 3, 1, 2, 3, 1, 2, 3, 1, 2, 1, 2, 3, 1, 2, 3, 1, 2, 3, 3], \"Freq\": [0.9926742315292358, 0.7087011933326721, 0.22065788507461548, 0.07009132951498032, 0.6213211417198181, 0.31066057085990906, 0.06795699894428253, 0.641410768032074, 0.30896124243736267, 0.048783354461193085, 0.7510243654251099, 0.1477014571428299, 0.10013658553361893, 0.9800642728805542, 0.34608975052833557, 0.6505730748176575, 0.0037824015598744154, 0.4332142472267151, 0.467816025018692, 0.09965311735868454, 0.12630966305732727, 0.21230773627758026, 0.6611101627349854, 0.5275191068649292, 0.3963679373264313, 0.07577622681856155, 0.9919297099113464, 0.9603183269500732, 0.18206064403057098, 0.8137559294700623, 0.0027584945783019066, 0.9796520471572876, 0.14004582166671753, 0.8589476943016052, 0.5184783935546875, 0.46623876690864563, 0.01567189209163189, 0.48865464329719543, 0.510441780090332, 0.0515524186193943, 0.9537197351455688, 0.9627867937088013, 0.016695724800229073, 0.022260965779423714, 0.014538007788360119, 0.9231634736061096, 0.058152031153440475, 0.14672783017158508, 0.826466977596283, 0.026950011029839516, 0.9894694089889526, 0.9756081104278564, 0.9695614576339722, 0.03259029984474182, 0.21238477528095245, 0.7479637861251831, 0.04001452401280403, 0.9786815643310547, 0.021072091534733772, 0.969976544380188, 0.02732328325510025, 0.9643961191177368, 0.0031356974504888058, 0.015678487718105316, 0.9814732670783997, 0.2287842333316803, 0.3251144587993622, 0.44552719593048096, 0.961129367351532, 0.3019333481788635, 0.6261144280433655, 0.07309965044260025, 0.05044702813029289, 0.07567054033279419, 0.8702112436294556, 0.9931201934814453, 0.2700141966342926, 0.3300173282623291, 0.39859238266944885, 0.9983862638473511, 0.4356219172477722, 0.5098756551742554, 0.05445273965597153, 0.99046790599823, 0.006865960545837879, 0.9886983633041382, 0.006865960545837879, 0.6752991080284119, 0.15794584155082703, 0.16761599481105804, 0.9756110906600952, 0.9931147694587708, 0.3496655821800232, 0.6295724511146545, 0.020927615463733673, 0.9800641536712646, 0.9687114357948303, 0.959662139415741, 0.033091798424720764, 0.005515299737453461, 0.9575439691543579, 0.0363624282181263, 0.9906999468803406, 0.9738779067993164, 0.03075403906404972, 0.03553682938218117, 0.9381723403930664, 0.028429465368390083, 0.3369092643260956, 0.6239060163497925, 0.039098110049963, 0.9833416938781738, 0.19885703921318054, 0.798742413520813, 0.019404321908950806, 0.9799182415008545, 0.9762382507324219, 0.3802914023399353, 0.6033469438552856, 0.016454916447401047, 0.11098479479551315, 0.8878783583641052, 0.9907500743865967, 0.02280835248529911, 0.9579508304595947, 0.975621223449707, 0.44846025109291077, 0.5127277970314026, 0.03884301334619522, 0.9838930368423462, 0.9858494400978088, 0.4760984480381012, 0.4548659324645996, 0.06941401213407516, 0.9568049907684326, 0.9897996187210083, 0.9531536102294922, 0.025249101221561432, 0.018936825916171074, 0.9758285284042358, 0.015451225452125072, 0.9734271764755249, 0.9755064249038696, 0.9868466258049011, 0.9796255230903625, 0.983065664768219, 0.4492061138153076, 0.21825182437896729, 0.33257418870925903, 0.9385414719581604, 0.06083139032125473, 0.9886707067489624, 0.974160373210907, 0.00936122890561819, 0.004680614452809095, 0.9876096844673157, 0.016146967187523842, 0.9688180088996887, 0.016146967187523842, 0.17179979383945465, 0.8199535608291626, 0.007809081580489874, 0.9942829608917236, 0.9947806000709534, 0.9708489179611206, 0.22264140844345093, 0.25562533736228943, 0.5194966197013855, 0.9918771386146545, 0.9695554971694946, 0.9113103151321411, 0.0322587713599205, 0.05645285174250603, 0.9855583906173706, 0.9943947792053223, 0.9825515747070312, 0.9740282297134399, 0.48923370242118835, 0.420952171087265, 0.09010346978902817, 0.9800640940666199, 0.21066178381443024, 0.7874738574028015, 0.4417177140712738, 0.2119051218032837, 0.34621119499206543, 0.37438303232192993, 0.5154228210449219, 0.1100257858633995, 0.014340970665216446, 0.10038679838180542, 0.8891401886940002, 0.36214160919189453, 0.5390657782554626, 0.09813761711120605, 0.0257106963545084, 0.0257106963545084, 0.951295793056488, 0.030160628259181976, 0.970004677772522, 0.9921902418136597, 0.008337733335793018, 0.9762275218963623, 0.7601864337921143, 0.23931795358657837, 0.0688001960515976, 0.92518150806427, 0.007242125459015369, 0.9466801285743713, 0.00555780902504921, 0.048167675733566284, 0.9650951623916626, 0.7645779848098755, 0.18090461194515228, 0.05461271479725838, 0.4232906699180603, 0.5539788007736206, 0.0219741053879261, 0.9795888066291809, 0.990408718585968, 0.45343217253685, 0.3767957389354706, 0.17083536088466644, 0.9059342741966248, 0.03003096953034401, 0.06006193906068802, 0.08630801737308502, 0.9136019349098206, 0.7538753747940063, 0.24511247873306274, 0.008485718630254269, 0.9928291440010071, 0.9963712692260742, 0.9834883809089661, 0.4970328211784363, 0.40201184153556824, 0.10111206769943237, 0.9679524302482605, 0.21788476407527924, 0.7683305144309998, 0.013761143200099468, 0.9914880990982056, 0.1634989231824875, 0.5570048093795776, 0.27988800406455994, 0.9818305373191833, 0.44040244817733765, 0.09358552098274231, 0.46242254972457886, 0.9809988737106323, 0.9826241731643677, 0.3688625693321228, 0.2653687596321106, 0.36620888113975525, 0.044626448303461075, 0.9499058723449707, 0.006375207100063562, 0.9949071407318115, 0.9845741391181946, 0.2554756700992584, 0.2667466402053833, 0.48089537024497986, 0.981476902961731, 0.8512101173400879, 0.1003018245100975, 0.051506344228982925, 0.9870940446853638, 0.9907889366149902, 0.1062360480427742, 0.895418107509613, 0.9827045202255249, 0.9736865162849426, 0.14233167469501495, 0.8539900183677673, 0.9642708897590637, 0.9847437143325806, 0.012386713176965714, 0.9893946647644043, 0.007610728032886982, 0.987291693687439, 0.02598136104643345, 0.01588389277458191, 0.9689174890518188, 0.9781928658485413, 0.01778532564640045, 0.9929192662239075, 0.007899316027760506, 0.9874144792556763, 0.7742817997932434, 0.21545232832431793, 0.010099328123033047, 0.14755386114120483, 0.16914711892604828, 0.6801873445510864, 0.9850802421569824, 0.2885795533657074, 0.7069569230079651, 0.0050406912341713905, 0.3118864893913269, 0.2735004723072052, 0.4174480736255646, 0.4336463510990143, 0.559897780418396, 0.0054891943000257015, 0.9366971850395203, 0.0616755336523056, 0.9824522733688354, 0.9651143550872803, 0.03248542919754982, 0.9420774579048157, 0.9856180548667908, 0.009955737739801407, 0.945857048034668, 0.014623300172388554, 0.9797610640525818, 0.1051822230219841, 0.8971425294876099, 0.8141748905181885, 0.11442457884550095, 0.07481607049703598, 0.8690046668052673, 0.024364616721868515, 0.10558000952005386, 0.7233684659004211, 0.23801155388355255, 0.037335146218538284, 0.02969248965382576, 0.02969248965382576, 0.9501596689224243, 0.03366927057504654, 0.1414109319448471, 0.8215301632881165, 0.3163132071495056, 0.21497014164924622, 0.46986329555511475, 0.7941283583641052, 0.20332755148410797, 0.9469711780548096, 0.033135272562503815, 0.019183577969670296, 0.9616897106170654, 0.026713602244853973, 0.05871562659740448, 0.9394500255584717, 0.1947215497493744, 0.012981437146663666, 0.7918676733970642, 0.9972924590110779, 0.16584716737270355, 0.8071229457855225, 0.02579844929277897, 0.29404371976852417, 0.37965136766433716, 0.3263016641139984, 0.9917775392532349, 0.9806022644042969, 0.015816165134310722, 0.9769887328147888, 0.9866889715194702, 0.497146874666214, 0.30942216515541077, 0.19419799745082855, 0.6409474611282349, 0.26795461773872375, 0.09003275632858276, 0.4221543073654175, 0.4211656451225281, 0.15719562768936157, 0.19718948006629944, 0.7790600657463074, 0.0226282998919487, 0.44435539841651917, 0.5523149967193604, 0.0031292634084820747, 0.016820650547742844, 0.9755977392196655, 0.008410325273871422, 0.7928673028945923, 0.0016869516111910343, 0.2058081030845642, 0.9644222855567932, 0.03709316626191139, 0.7889856696128845, 0.1657336801290512, 0.04435126855969429, 0.9793434143066406, 0.012396751902997494, 0.012396751902997494, 0.036090489476919174, 0.9639168381690979, 0.42705386877059937, 0.5728771686553955, 0.45139867067337036, 0.1817319393157959, 0.3663950264453888, 0.995254635810852, 0.026148274540901184, 0.9674861431121826, 0.9716196656227112, 0.5476646423339844, 0.35707736015319824, 0.09529364854097366, 0.586899995803833, 0.40586617588996887, 0.0068131014704704285, 0.9935263395309448, 0.22761394083499908, 0.7671432495117188, 0.004215072840452194, 0.2647356688976288, 0.182704895734787, 0.5518433451652527, 0.5671446919441223, 0.1650843769311905, 0.26892778277397156, 0.27065256237983704, 0.7281272411346436, 0.48167023062705994, 0.36801770329475403, 0.1504542976617813, 0.009581713937222958, 0.009581713937222958, 0.9773347973823547, 0.4790242314338684, 0.4066034257411957, 0.11430267989635468, 0.9704675674438477], \"Term\": [\"03\", \"1\", \"1\", \"1\", \"2\", \"2\", \"2\", \"3\", \"3\", \"3\", \"4\", \"4\", \"4\", \"841983\", \"ago\", \"ago\", \"ago\", \"also\", \"also\", \"also\", \"amp\", \"amp\", \"amp\", \"anyon\", \"anyon\", \"anyon\", \"app\", \"appl\", \"appoint\", \"appoint\", \"appoint\", \"areola\", \"armpit\", \"armpit\", \"back\", \"back\", \"back\", \"biopsi\", \"biopsi\", \"blog\", \"blog\", \"bone\", \"bone\", \"bone\", \"boob\", \"boob\", \"boob\", \"breast\", \"breast\", \"breast\", \"bump\", \"capsul\", \"carcinoma\", \"carcinoma\", \"check\", \"check\", \"check\", \"chemo\", \"chemo\", \"chester\", \"chester\", \"cincinnati\", \"com\", \"com\", \"com\", \"complet\", \"complet\", \"complet\", \"cook\", \"could\", \"could\", \"could\", \"creat\", \"creat\", \"creat\", \"ct\", \"current\", \"current\", \"current\", \"cyst\", \"day\", \"day\", \"day\", \"dci\", \"dens\", \"dens\", \"dens\", \"diagnos\", \"diagnos\", \"diagnos\", \"dimpl\", \"discharg\", \"doctor\", \"doctor\", \"doctor\", \"domystudi\", \"donat\", \"doubl\", \"doubl\", \"doubl\", \"ductal\", \"ductal\", \"edu\", \"er\", \"er\", \"exam\", \"exam\", \"exam\", \"feel\", \"feel\", \"feel\", \"feet\", \"felt\", \"felt\", \"fibroadenoma\", \"fibroadenoma\", \"fibrocyst\", \"found\", \"found\", \"found\", \"freak\", \"freak\", \"fruit\", \"function\", \"function\", \"fundrais\", \"get\", \"get\", \"get\", \"gift\", \"ginsenosid\", \"go\", \"go\", \"go\", \"goal\", \"gp\", \"grade\", \"grade\", \"grade\", \"grandma\", \"grandmoth\", \"grandmoth\", \"grown\", \"gt\", \"gyn\", \"headphon\", \"help\", \"help\", \"help\", \"her2\", \"her2\", \"herceptin\", \"hip\", \"http\", \"http\", \"http\", \"huge\", \"huge\", \"huge\", \"hurt\", \"hurt\", \"hurt\", \"idc\", \"indent\", \"index\", \"inform\", \"inform\", \"inform\", \"ingredi\", \"interview\", \"invas\", \"invas\", \"invas\", \"itch\", \"itchi\", \"jfe\", \"jinx\", \"know\", \"know\", \"know\", \"lang\", \"left\", \"left\", \"life\", \"life\", \"life\", \"like\", \"like\", \"like\", \"link\", \"link\", \"link\", \"look\", \"look\", \"look\", \"lt\", \"lt\", \"lt\", \"lump\", \"lump\", \"lumpectomi\", \"lumpectomi\", \"lumpi\", \"lymph\", \"lymph\", \"mammogram\", \"mammogram\", \"mammogram\", \"mastectomi\", \"mastectomi\", \"mastectomi\", \"mm\", \"mom\", \"mom\", \"mom\", \"month\", \"month\", \"month\", \"nausea\", \"nbsp\", \"need\", \"need\", \"need\", \"neg\", \"neg\", \"neg\", \"nippl\", \"nippl\", \"node\", \"node\", \"notic\", \"notic\", \"oncologist\", \"oncotyp\", \"one\", \"one\", \"one\", \"page\", \"pain\", \"pain\", \"pain\", \"paranoid\", \"part\", \"part\", \"part\", \"particip\", \"patient\", \"patient\", \"patient\", \"pea\", \"pelvi\", \"peopl\", \"peopl\", \"peopl\", \"period\", \"period\", \"period\", \"pet\", \"plastic\", \"pleas\", \"pleas\", \"pleas\", \"port\", \"posit\", \"posit\", \"posit\", \"pr\", \"press\", \"product\", \"product\", \"prognosi\", \"project\", \"psycholog\", \"psycholog\", \"qualtric\", \"questionnair\", \"questionnair\", \"radiat\", \"radiat\", \"radiotherapi\", \"radiotherapi\", \"rash\", \"rash\", \"reconstruct\", \"reconstruct\", \"recurr\", \"red\", \"red\", \"remov\", \"remov\", \"remov\", \"research\", \"research\", \"research\", \"rh2\", \"right\", \"right\", \"right\", \"risk\", \"risk\", \"risk\", \"said\", \"said\", \"said\", \"scan\", \"scan\", \"score\", \"serv\", \"servic\", \"servic\", \"session\", \"session\", \"song\", \"sore\", \"sore\", \"spot\", \"spot\", \"spread\", \"spread\", \"spread\", \"stage\", \"stage\", \"stage\", \"start\", \"start\", \"start\", \"student\", \"student\", \"student\", \"studi\", \"studi\", \"studi\", \"support\", \"support\", \"support\", \"surgeon\", \"surgeon\", \"surgeri\", \"surgeri\", \"surgeri\", \"surgic\", \"surgic\", \"survey\", \"survey\", \"survivor\", \"survivor\", \"survivor\", \"swollen\", \"symptom\", \"symptom\", \"symptom\", \"take\", \"take\", \"take\", \"tamoxifen\", \"taxol\", \"taxol\", \"tech\", \"tender\", \"thank\", \"thank\", \"thank\", \"thing\", \"thing\", \"thing\", \"time\", \"time\", \"time\", \"tissu\", \"tissu\", \"tissu\", \"told\", \"told\", \"told\", \"touch\", \"touch\", \"touch\", \"treatment\", \"treatment\", \"treatment\", \"tripl\", \"tripl\", \"tumor\", \"tumor\", \"tumor\", \"tumour\", \"tumour\", \"tumour\", \"ultrasound\", \"ultrasound\", \"univers\", \"univers\", \"use\", \"use\", \"use\", \"veget\", \"video\", \"video\", \"visibl\", \"want\", \"want\", \"want\", \"week\", \"week\", \"week\", \"wellbutrin\", \"went\", \"went\", \"went\", \"women\", \"women\", \"women\", \"work\", \"work\", \"work\", \"worri\", \"worri\", \"would\", \"would\", \"would\", \"www\", \"www\", \"www\", \"year\", \"year\", \"year\", \"youtu\"]}, \"R\": 30, \"lambda.step\": 0.01, \"plot.opts\": {\"xlab\": \"PC1\", \"ylab\": \"PC2\"}, \"topic.order\": [1, 3, 2]};\n",
       "\n",
       "function LDAvis_load_lib(url, callback){\n",
       "  var s = document.createElement('script');\n",
       "  s.src = url;\n",
       "  s.async = true;\n",
       "  s.onreadystatechange = s.onload = callback;\n",
       "  s.onerror = function(){console.warn(\"failed to load library \" + url);};\n",
       "  document.getElementsByTagName(\"head\")[0].appendChild(s);\n",
       "}\n",
       "\n",
       "if(typeof(LDAvis) !== \"undefined\"){\n",
       "   // already loaded: just create the visualization\n",
       "   !function(LDAvis){\n",
       "       new LDAvis(\"#\" + \"ldavis_el539621404408235478481552047729\", ldavis_el539621404408235478481552047729_data);\n",
       "   }(LDAvis);\n",
       "}else if(typeof define === \"function\" && define.amd){\n",
       "   // require.js is available: use it to load d3/LDAvis\n",
       "   require.config({paths: {d3: \"https://cdnjs.cloudflare.com/ajax/libs/d3/3.5.5/d3.min\"}});\n",
       "   require([\"d3\"], function(d3){\n",
       "      window.d3 = d3;\n",
       "      LDAvis_load_lib(\"https://cdn.rawgit.com/bmabey/pyLDAvis/files/ldavis.v1.0.0.js\", function(){\n",
       "        new LDAvis(\"#\" + \"ldavis_el539621404408235478481552047729\", ldavis_el539621404408235478481552047729_data);\n",
       "      });\n",
       "    });\n",
       "}else{\n",
       "    // require.js not available: dynamically load d3 & LDAvis\n",
       "    LDAvis_load_lib(\"https://cdnjs.cloudflare.com/ajax/libs/d3/3.5.5/d3.min.js\", function(){\n",
       "         LDAvis_load_lib(\"https://cdn.rawgit.com/bmabey/pyLDAvis/files/ldavis.v1.0.0.js\", function(){\n",
       "                 new LDAvis(\"#\" + \"ldavis_el539621404408235478481552047729\", ldavis_el539621404408235478481552047729_data);\n",
       "            })\n",
       "         });\n",
       "}\n",
       "</script>"
      ],
      "text/plain": [
       "PreparedData(topic_coordinates=              x         y  topics  cluster       Freq\n",
       "topic                                                \n",
       "0     -0.054190 -0.084278       1        1  43.906059\n",
       "2     -0.122193  0.065083       2        1  40.134941\n",
       "1      0.176383  0.019195       3        1  15.958999, topic_info=     Category         Freq        Term        Total  loglift  logprob\n",
       "399   Default  1027.000000        lump  1027.000000  30.0000  30.0000\n",
       "678   Default   427.000000        http   427.000000  29.0000  29.0000\n",
       "861   Default   318.000000         com   318.000000  28.0000  28.0000\n",
       "55    Default   854.000000       chemo   854.000000  27.0000  27.0000\n",
       "270   Default   664.000000  ultrasound   664.000000  26.0000  26.0000\n",
       "882   Default   297.000000       studi   297.000000  25.0000  25.0000\n",
       "812   Default   372.000000         amp   372.000000  24.0000  24.0000\n",
       "16    Default   865.000000        help   865.000000  23.0000  23.0000\n",
       "805   Default   208.000000         www   208.000000  22.0000  22.0000\n",
       "261   Default   806.000000        take   806.000000  21.0000  21.0000\n",
       "794   Default   552.000000   mammogram   552.000000  20.0000  20.0000\n",
       "381   Default   592.000000   treatment   592.000000  19.0000  19.0000\n",
       "459   Default   277.000000    research   277.000000  18.0000  18.0000\n",
       "637   Default   353.000000       notic   353.000000  17.0000  17.0000\n",
       "71    Default   573.000000     surgeri   573.000000  16.0000  16.0000\n",
       "1172  Default   475.000000       nippl   475.000000  15.0000  15.0000\n",
       "292   Default   539.000000  mastectomi   539.000000  14.0000  14.0000\n",
       "89    Default   394.000000      radiat   394.000000  13.0000  13.0000\n",
       "883   Default   153.000000      survey   153.000000  12.0000  12.0000\n",
       "116   Default   615.000000       stage   615.000000  11.0000  11.0000\n",
       "31    Default   872.000000        pain   872.000000  10.0000  10.0000\n",
       "982   Default   268.000000       women   268.000000   9.0000   9.0000\n",
       "305   Default   325.000000     support   325.000000   8.0000   8.0000\n",
       "368   Default   293.000000  oncologist   293.000000   7.0000   7.0000\n",
       "85    Default   598.000000        left   598.000000   6.0000   6.0000\n",
       "874   Default   139.000000        link   139.000000   5.0000   5.0000\n",
       "887   Default   192.000000     univers   192.000000   4.0000   4.0000\n",
       "183   Default   793.000000       right   793.000000   3.0000   3.0000\n",
       "500   Default   242.000000      inform   242.000000   2.0000   2.0000\n",
       "181   Default   266.000000       pleas   266.000000   1.0000   1.0000\n",
       "...       ...          ...         ...          ...      ...      ...\n",
       "2474   Topic3    31.829954     student    33.678551   1.7787  -6.8246\n",
       "812    Topic3   245.638168         amp   372.101379   1.4198  -4.7811\n",
       "459    Topic3   189.470276    research   277.864624   1.4522  -5.0408\n",
       "337    Topic3    53.817303   psycholog    63.232590   1.6739  -6.2994\n",
       "741    Topic3    60.637024    survivor    77.033073   1.5958  -6.1801\n",
       "982    Topic3   147.821381       women   268.192047   1.2394  -5.2890\n",
       "887    Topic3   109.843819     univers   192.013245   1.2766  -5.5859\n",
       "500    Topic3   126.393448      inform   242.542480   1.1834  -5.4456\n",
       "305    Topic3   152.701294     support   325.626617   1.0779  -5.2565\n",
       "16     Topic3   287.926056        help   865.972168   0.7340  -4.6223\n",
       "181    Topic3   127.982224       pleas   266.170166   1.1029  -5.4331\n",
       "261    Topic3   262.738037        take   806.002625   0.7142  -4.7138\n",
       "552    Topic3   110.822914     complet   249.143036   1.0251  -5.5771\n",
       "567    Topic3   138.272339       peopl   376.834106   0.8326  -5.3558\n",
       "46     Topic3   125.201271         use   341.161835   0.8327  -5.4551\n",
       "562    Topic3   115.837212        life   335.055603   0.7730  -5.5328\n",
       "293    Topic3    84.253662     patient   181.652039   1.0669  -5.8512\n",
       "356    Topic3    92.958778     current   233.321075   0.9149  -5.7528\n",
       "42     Topic3   149.842667       thank   772.407532   0.1952  -5.2754\n",
       "194    Topic3   158.550949        time  1011.478516  -0.0179  -5.2189\n",
       "607    Topic3    86.721786        risk   208.409149   0.9583  -5.8223\n",
       "381    Topic3   121.674835   treatment   592.785217   0.2517  -5.4836\n",
       "123    Topic3   138.820724       would   923.868591  -0.0602  -5.3518\n",
       "86     Topic3   148.983261        like  1354.228027  -0.3720  -5.2812\n",
       "177    Topic3   100.676407        part   360.858643   0.5586  -5.6731\n",
       "308    Topic3   100.986900        work   375.565521   0.5217  -5.6700\n",
       "202    Topic3   131.259430        year  1146.079834  -0.3318  -5.4078\n",
       "19     Topic3   127.580841        know  1420.588989  -0.5749  -5.4362\n",
       "29     Topic3   106.922432        need   626.334045   0.0674  -5.6129\n",
       "57     Topic3   104.054413     diagnos   620.465820   0.0496  -5.6401\n",
       "\n",
       "[259 rows x 6 columns], token_table=      Topic      Freq        Term\n",
       "term                             \n",
       "2346      1  0.992674          03\n",
       "309       1  0.708701           1\n",
       "309       2  0.220658           1\n",
       "309       3  0.070091           1\n",
       "407       1  0.621321           2\n",
       "407       2  0.310661           2\n",
       "407       3  0.067957           2\n",
       "73        1  0.641411           3\n",
       "73        2  0.308961           3\n",
       "73        3  0.048783           3\n",
       "310       1  0.751024           4\n",
       "310       2  0.147701           4\n",
       "310       3  0.100137           4\n",
       "8408      2  0.980064      841983\n",
       "579       1  0.346090         ago\n",
       "579       2  0.650573         ago\n",
       "579       3  0.003782         ago\n",
       "311       1  0.433214        also\n",
       "311       2  0.467816        also\n",
       "311       3  0.099653        also\n",
       "812       1  0.126310         amp\n",
       "812       2  0.212308         amp\n",
       "812       3  0.661110         amp\n",
       "53        1  0.527519       anyon\n",
       "53        2  0.396368       anyon\n",
       "53        3  0.075776       anyon\n",
       "279       3  0.991930         app\n",
       "2496      3  0.960318        appl\n",
       "487       1  0.182061     appoint\n",
       "487       2  0.813756     appoint\n",
       "...     ...       ...         ...\n",
       "1498      3  0.967486       video\n",
       "1866      2  0.971620      visibl\n",
       "47        1  0.547665        want\n",
       "47        2  0.357077        want\n",
       "47        3  0.095294        want\n",
       "48        1  0.586900        week\n",
       "48        2  0.405866        week\n",
       "48        3  0.006813        week\n",
       "8935      1  0.993526  wellbutrin\n",
       "275       1  0.227614        went\n",
       "275       2  0.767143        went\n",
       "275       3  0.004215        went\n",
       "982       1  0.264736       women\n",
       "982       2  0.182705       women\n",
       "982       3  0.551843       women\n",
       "308       1  0.567145        work\n",
       "308       2  0.165084        work\n",
       "308       3  0.268928        work\n",
       "276       1  0.270653       worri\n",
       "276       2  0.728127       worri\n",
       "123       1  0.481670       would\n",
       "123       2  0.368018       would\n",
       "123       3  0.150454       would\n",
       "805       1  0.009582         www\n",
       "805       2  0.009582         www\n",
       "805       3  0.977335         www\n",
       "202       1  0.479024        year\n",
       "202       2  0.406603        year\n",
       "202       3  0.114303        year\n",
       "1499      3  0.970468       youtu\n",
       "\n",
       "[427 rows x 3 columns], R=30, lambda_step=0.01, plot_opts={'xlab': 'PC1', 'ylab': 'PC2'}, topic_order=[1, 3, 2])"
      ]
     },
     "execution_count": 19,
     "metadata": {},
     "output_type": "execute_result"
    }
   ],
   "source": [
    "# Visualize the topics\n",
    "pyLDAvis.enable_notebook()\n",
    "LDAvis_prepared = pyLDAvis.gensim.prepare(reddit_lda, reddit_corpus, reddit_dictionary)\n",
    "LDAvis_prepared"
   ]
  }
 ],
 "metadata": {
  "kernelspec": {
   "display_name": "Python 3",
   "language": "python",
   "name": "python3"
  },
  "language_info": {
   "codemirror_mode": {
    "name": "ipython",
    "version": 3
   },
   "file_extension": ".py",
   "mimetype": "text/x-python",
   "name": "python",
   "nbconvert_exporter": "python",
   "pygments_lexer": "ipython3",
   "version": "3.7.3"
  }
 },
 "nbformat": 4,
 "nbformat_minor": 2
}
